{
  "nbformat": 4,
  "nbformat_minor": 0,
  "metadata": {
    "colab": {
      "name": "Arquivo1_intro_colab.ipynb",
      "provenance": [],
      "authorship_tag": "ABX9TyPWiEwaxYvXsh4JdMszduKK",
      "include_colab_link": true
    },
    "kernelspec": {
      "name": "python3",
      "display_name": "Python 3"
    },
    "language_info": {
      "name": "python"
    }
  },
  "cells": [
    {
      "cell_type": "markdown",
      "metadata": {
        "id": "view-in-github",
        "colab_type": "text"
      },
      "source": [
        "<a href=\"https://colab.research.google.com/github/fredprada/Dex_Course_FredericoPrada/blob/main/Arquivo1_intro_colab.ipynb\" target=\"_parent\"><img src=\"https://colab.research.google.com/assets/colab-badge.svg\" alt=\"Open In Colab\"/></a>"
      ]
    },
    {
      "cell_type": "code",
      "metadata": {
        "colab": {
          "base_uri": "https://localhost:8080/"
        },
        "id": "t3u91KB6DUno",
        "outputId": "fd5939bd-249e-417a-c890-a65ebf885c97"
      },
      "source": [
        "print('olá mundo')"
      ],
      "execution_count": 6,
      "outputs": [
        {
          "output_type": "stream",
          "name": "stdout",
          "text": [
            "olá mundo\n"
          ]
        }
      ]
    },
    {
      "cell_type": "code",
      "metadata": {
        "id": "CtjIiIs2DV3k"
      },
      "source": [
        "# comentário"
      ],
      "execution_count": 8,
      "outputs": []
    },
    {
      "cell_type": "code",
      "metadata": {
        "colab": {
          "base_uri": "https://localhost:8080/"
        },
        "id": "MraHrvaLD1uO",
        "outputId": "dedd2da5-da18-45b9-808d-3e4155b39989"
      },
      "source": [
        "print(2)"
      ],
      "execution_count": 9,
      "outputs": [
        {
          "output_type": "stream",
          "name": "stdout",
          "text": [
            "2\n"
          ]
        }
      ]
    },
    {
      "cell_type": "code",
      "metadata": {
        "colab": {
          "base_uri": "https://localhost:8080/"
        },
        "id": "f5vygdMED68y",
        "outputId": "4d1445ea-ff34-43bd-c8bf-55b9fa5f3d81"
      },
      "source": [
        "print(2.1+2)"
      ],
      "execution_count": 12,
      "outputs": [
        {
          "output_type": "stream",
          "name": "stdout",
          "text": [
            "4.1\n"
          ]
        }
      ]
    },
    {
      "cell_type": "code",
      "metadata": {
        "colab": {
          "base_uri": "https://localhost:8080/"
        },
        "id": "n74-NB6kD90Y",
        "outputId": "7cadd081-fc88-4df5-e352-0ec806eb1575"
      },
      "source": [
        "print('a '+'b')"
      ],
      "execution_count": 14,
      "outputs": [
        {
          "output_type": "stream",
          "name": "stdout",
          "text": [
            "a b\n"
          ]
        }
      ]
    },
    {
      "cell_type": "code",
      "metadata": {
        "colab": {
          "base_uri": "https://localhost:8080/"
        },
        "id": "IK6EsMR3EE8M",
        "outputId": "19a8857a-fdb0-420b-b852-eb9c1d70b6b3"
      },
      "source": [
        "print('meu nome é '+'Fred')"
      ],
      "execution_count": 15,
      "outputs": [
        {
          "output_type": "stream",
          "name": "stdout",
          "text": [
            "meu nome é Fred\n"
          ]
        }
      ]
    },
    {
      "cell_type": "code",
      "metadata": {
        "colab": {
          "base_uri": "https://localhost:8080/"
        },
        "id": "428J3_5fEQ8D",
        "outputId": "bb1f8159-c061-4cc7-d169-df772c2b44b0"
      },
      "source": [
        "print('meu notem é','Fred')"
      ],
      "execution_count": 18,
      "outputs": [
        {
          "output_type": "stream",
          "name": "stdout",
          "text": [
            "meu notem é Fred\n"
          ]
        }
      ]
    },
    {
      "cell_type": "code",
      "metadata": {
        "colab": {
          "base_uri": "https://localhost:8080/"
        },
        "id": "FMta7aZRES_i",
        "outputId": "bac1f54b-e7a7-4074-b7b1-b26135cc72bc"
      },
      "source": [
        "print('o valor é',3,'reais')"
      ],
      "execution_count": 19,
      "outputs": [
        {
          "output_type": "stream",
          "name": "stdout",
          "text": [
            "o valor é 3 reais\n"
          ]
        }
      ]
    },
    {
      "cell_type": "code",
      "metadata": {
        "id": "GI7LgItDEfr_"
      },
      "source": [
        "lanche = 10.9\n",
        "batata = 5.9\n",
        "refri = 3"
      ],
      "execution_count": 20,
      "outputs": []
    },
    {
      "cell_type": "code",
      "metadata": {
        "id": "lkGAue4eFFne"
      },
      "source": [
        "conta = lanche + batata + refri"
      ],
      "execution_count": 21,
      "outputs": []
    },
    {
      "cell_type": "code",
      "metadata": {
        "colab": {
          "base_uri": "https://localhost:8080/"
        },
        "id": "pLGGwbRPFIq9",
        "outputId": "96f70cfb-3ce2-46b7-9dc4-b2ec959aff6d"
      },
      "source": [
        "print(conta)"
      ],
      "execution_count": 22,
      "outputs": [
        {
          "output_type": "stream",
          "name": "stdout",
          "text": [
            "19.8\n"
          ]
        }
      ]
    },
    {
      "cell_type": "code",
      "metadata": {
        "id": "uKLBGKPkFJuU"
      },
      "source": [
        "pagamento = 'cartão'"
      ],
      "execution_count": 23,
      "outputs": []
    },
    {
      "cell_type": "code",
      "metadata": {
        "colab": {
          "base_uri": "https://localhost:8080/"
        },
        "id": "sZYJijT-FScX",
        "outputId": "befd164a-a37c-4768-fa73-488cd35aa865"
      },
      "source": [
        "print('você pediu um lanche de: R$',lanche,'e uma batata de R$', batata, 'no valor de: ',conta,'que será pago no', pagamento)"
      ],
      "execution_count": 25,
      "outputs": [
        {
          "output_type": "stream",
          "name": "stdout",
          "text": [
            "você pediu um lanche de: R$ 10.9 e uma batata de R$ 5.9 no valor de:  19.8 que será pago no cartão\n"
          ]
        }
      ]
    },
    {
      "cell_type": "code",
      "metadata": {
        "colab": {
          "base_uri": "https://localhost:8080/"
        },
        "id": "I4it-mFnFdWG",
        "outputId": "107a6f6f-b790-48bf-db2a-376f1d3480cd"
      },
      "source": [
        "lanche = input('qual o lanche?')"
      ],
      "execution_count": 27,
      "outputs": [
        {
          "name": "stdout",
          "output_type": "stream",
          "text": [
            "qual o lanche?aaaa\n"
          ]
        }
      ]
    },
    {
      "cell_type": "code",
      "metadata": {
        "colab": {
          "base_uri": "https://localhost:8080/"
        },
        "id": "MvrYrm48Fqvj",
        "outputId": "6f4dbcbd-55f6-499b-b47c-467537aba3e6"
      },
      "source": [
        "print(lanche)"
      ],
      "execution_count": 28,
      "outputs": [
        {
          "output_type": "stream",
          "name": "stdout",
          "text": [
            "aaaa\n"
          ]
        }
      ]
    },
    {
      "cell_type": "code",
      "metadata": {
        "id": "tYTqzh8bFwQD"
      },
      "source": [
        "# o que vem pelo input É SEMPRE UMA STRING"
      ],
      "execution_count": 29,
      "outputs": []
    },
    {
      "cell_type": "code",
      "metadata": {
        "colab": {
          "base_uri": "https://localhost:8080/"
        },
        "id": "yLz4JPufF090",
        "outputId": "8014f70d-70c8-4f27-bbed-f26b9ce278aa"
      },
      "source": [
        "type(lanche)"
      ],
      "execution_count": 30,
      "outputs": [
        {
          "output_type": "execute_result",
          "data": {
            "text/plain": [
              "str"
            ]
          },
          "metadata": {},
          "execution_count": 30
        }
      ]
    },
    {
      "cell_type": "code",
      "metadata": {
        "colab": {
          "base_uri": "https://localhost:8080/"
        },
        "id": "FBsHboCfF_F4",
        "outputId": "5a02a580-7bc3-4ad3-82f1-8945e1231ba0"
      },
      "source": [
        "type(5)"
      ],
      "execution_count": 31,
      "outputs": [
        {
          "output_type": "execute_result",
          "data": {
            "text/plain": [
              "int"
            ]
          },
          "metadata": {},
          "execution_count": 31
        }
      ]
    },
    {
      "cell_type": "code",
      "metadata": {
        "colab": {
          "base_uri": "https://localhost:8080/"
        },
        "id": "SwUPF9VvGBdI",
        "outputId": "248880ea-5164-43a5-bbce-7b17f95b27b7"
      },
      "source": [
        "pgtocartao = True\n",
        "\n",
        "pgtoDinheiro = False\n",
        "\n",
        "type(pgtocartao)"
      ],
      "execution_count": 32,
      "outputs": [
        {
          "output_type": "execute_result",
          "data": {
            "text/plain": [
              "bool"
            ]
          },
          "metadata": {},
          "execution_count": 32
        }
      ]
    }
  ]
}