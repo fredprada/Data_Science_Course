{
  "nbformat": 4,
  "nbformat_minor": 0,
  "metadata": {
    "colab": {
      "name": "Aula 17 - Listas simples (prática).ipynb",
      "provenance": [],
      "collapsed_sections": [],
      "include_colab_link": true
    },
    "kernelspec": {
      "name": "python3",
      "display_name": "Python 3"
    },
    "language_info": {
      "name": "python"
    }
  },
  "cells": [
    {
      "cell_type": "markdown",
      "metadata": {
        "id": "view-in-github",
        "colab_type": "text"
      },
      "source": [
        "<a href=\"https://colab.research.google.com/github/fredprada/Dex_Course_FredericoPrada/blob/main/Aula_17_Listas_simples_(pr%C3%A1tica).ipynb\" target=\"_parent\"><img src=\"https://colab.research.google.com/assets/colab-badge.svg\" alt=\"Open In Colab\"/></a>"
      ]
    },
    {
      "cell_type": "markdown",
      "metadata": {
        "id": "vmOiyAlWk7HR"
      },
      "source": [
        "# Listas\n",
        "\n",
        "As listas são variáveis compostas mutáveis."
      ]
    },
    {
      "cell_type": "markdown",
      "metadata": {
        "id": "gUt0wyiL5ZV2"
      },
      "source": [
        "As listas são variáveis compostas que são declaradas entre colchetes `[]`\n",
        "\n",
        "```\n",
        "lista = ['var1','var2','var3']\n",
        "```\n",
        "\n",
        "Assim como as tuplas, elas também aceitam qualquer tipo de dado.\n",
        "\n",
        "<h2> Similaridades entre Listas e Tuplas: </h2>\n",
        "\n",
        "Todas as funções vistas em tuplas também funcionam com Listas:\n",
        "\n",
        "> Fatiamento: `[0] [0:2] [:3] [3:] [-1]` <br>\n",
        "> Métodos: `.index()`      `.count()` <br>\n",
        "> Funções: `len()` e `sorted()` <br>\n",
        "> Concatenar: `lista3 = lista1 + lista2` <br>\n",
        "> Lista dentro de for: `for i in lista` e `for i, v in enumerate(lista):`"
      ]
    },
    {
      "cell_type": "markdown",
      "metadata": {
        "id": "cwuCtaPdCi-Z"
      },
      "source": [
        "## Funções e Métodos para Listas"
      ]
    },
    {
      "cell_type": "markdown",
      "metadata": {
        "id": "gBPUzzksCwsI"
      },
      "source": [
        "* Modificando um termo:\n",
        "\n",
        "```\n",
        "lista[posicao] = novoValor\n",
        "lista[intervalo] = novaLista\n",
        "```\n",
        "\n",
        "<h3> Exemplo 1 </h3>\n",
        "\n",
        "Dada a lista abaixo:\n",
        "\n",
        "`l1 = [2, 6, 4, 5, 7]`\n",
        "\n",
        "* Troque o 3º termo por 3\n",
        "* Troque os 2 primeiros termos por 0 e 1, respectivamente."
      ]
    },
    {
      "cell_type": "code",
      "metadata": {
        "colab": {
          "base_uri": "https://localhost:8080/"
        },
        "id": "hXZDWX8d7ceC",
        "outputId": "73cf07d7-229b-4695-ecd9-6be7bff0f98b"
      },
      "source": [
        "# Declarando a lista\n",
        "l1 = [2, 6, 4, 5, 7]\n",
        "print(l1)\n",
        "\n",
        "# Substituindo os valores\n",
        "l1[2] = 3\n",
        "print(l1)\n",
        "l1[0:2] = [0,1]\n",
        "print(l1)"
      ],
      "execution_count": 1,
      "outputs": [
        {
          "output_type": "stream",
          "name": "stdout",
          "text": [
            "[2, 6, 4, 5, 7]\n",
            "[2, 6, 3, 5, 7]\n",
            "[0, 1, 3, 5, 7]\n"
          ]
        }
      ]
    },
    {
      "cell_type": "markdown",
      "metadata": {
        "id": "ahKI6DFu7tR8"
      },
      "source": [
        "* Adicionando termos:\n",
        "\n",
        "```\n",
        "lista.append(valor)\n",
        "lista.insert(posicao, valor)\n",
        "```\n",
        "\n",
        "<h3> Exemplo 2 </h3>\n",
        "\n",
        "Dada a lista abaixo:\n",
        "\n",
        "`l1 = [0, 1, 3, 5, 7]`\n",
        "\n",
        "* Insira 7 para o último valor\n",
        "* Insira 4 na quarta posição"
      ]
    },
    {
      "cell_type": "code",
      "metadata": {
        "colab": {
          "base_uri": "https://localhost:8080/"
        },
        "id": "Hr7FgI3E7s2g",
        "outputId": "e19ee24e-bd9f-4eaa-c448-dff47020d03f"
      },
      "source": [
        "# Declarando a lista\n",
        "l1 = [0, 1, 3, 5, 7]\n",
        "print(l1)\n",
        "\n",
        "# Inserindo os valores\n",
        "l1.append(7)\n",
        "print(l1)\n",
        "l1.insert(3, 4)\n",
        "print(l1)\n",
        "l1.insert(-1,5)\n",
        "print(l1)"
      ],
      "execution_count": 3,
      "outputs": [
        {
          "output_type": "stream",
          "name": "stdout",
          "text": [
            "[0, 1, 3, 5, 7]\n",
            "[0, 1, 3, 5, 7, 7]\n",
            "[0, 1, 3, 4, 5, 7, 7]\n",
            "[0, 1, 3, 4, 5, 7, 5, 7]\n"
          ]
        }
      ]
    },
    {
      "cell_type": "markdown",
      "metadata": {
        "id": "YK3mGfkh8hKP"
      },
      "source": [
        "Repare que quando usamos o `.insert()` o método insere o valor na posição desejada e desloca todos os outros valores da lista para direita.\n",
        "\n",
        "* Deletando termos:\n",
        "\n",
        "```\n",
        "del lista[posicao]\n",
        "var = lista.pop(pos)\n",
        "lista.remove(valor)\n",
        "```\n",
        "\n",
        "<h3> Exemplo 3 </h3>\n",
        "\n",
        "Dada a lista abaixo:\n",
        "\n",
        "`l1 = [0, 1, 3, 4, 5, 7, 7]`\n",
        "\n",
        "* Delete o 4º item usando `del`\n",
        "* Delete o 3º item usando `.pop` e salve na variável `deletado`\n",
        "* Delete o primeiro valor 7 que aparece na lista\n"
      ]
    },
    {
      "cell_type": "code",
      "metadata": {
        "colab": {
          "base_uri": "https://localhost:8080/"
        },
        "id": "IsvjRK1x9UKL",
        "outputId": "ae4edae2-68e7-4418-cf14-8332df497ab0"
      },
      "source": [
        "# Declarando a lista\n",
        "l1 = [0, 1, 3, 4, 5, 7, 7]\n",
        "print(l1)\n",
        "\n",
        "# Deletando os valores\n",
        "del l1[3]\n",
        "print(l1)\n",
        "deletado = l1.pop(2)\n",
        "print(l1,' - ', deletado)\n",
        "l1.remove(7)\n",
        "print(l1)\n",
        "del l1[-1]\n",
        "print(l1)\n",
        "del l1[-2]\n",
        "print(l1)"
      ],
      "execution_count": 6,
      "outputs": [
        {
          "output_type": "stream",
          "name": "stdout",
          "text": [
            "[0, 1, 3, 4, 5, 7, 7]\n",
            "[0, 1, 3, 5, 7, 7]\n",
            "[0, 1, 5, 7, 7]  -  3\n",
            "[0, 1, 5, 7]\n",
            "[0, 1, 5]\n",
            "[0, 5]\n"
          ]
        }
      ]
    },
    {
      "cell_type": "markdown",
      "metadata": {
        "id": "62y6abfz9vzf"
      },
      "source": [
        "### if com lista\n",
        "\n",
        "Também podemos usar o if de uma forma simplificada na lista para verificarmos se algum valor existe dentro da lista:\n",
        "\n",
        "```\n",
        "if valor in lista:\n",
        "  lista.remove(valor)\n",
        "```\n",
        "Como o exemplo acima mostra, ela é muito comum de ser usada para verificar se algum valor está dentro da lista antes de deletá-lo.\n",
        "\n",
        "<h2> Exercício 1 </h2>\n",
        "\n",
        "Dada a lista abaixo:\n",
        "```\n",
        "l2 = [3, 2, 5, 0, 0, 8, 3, 8, 8, 4, 0, 9, 7, 8, 9, 3, 6, 0, 1]\n",
        "```\n",
        "1. Conte a quantidade de termos que a lista possui e imprima\n",
        "2. Delete todos os **0** da lista e imprima-a\n",
        "3. Conte a quantidade de termos da nova lista"
      ]
    },
    {
      "cell_type": "code",
      "metadata": {
        "colab": {
          "base_uri": "https://localhost:8080/"
        },
        "id": "An1LqmQf-SuL",
        "outputId": "da2826a0-64b5-4998-c49c-50c9e748ba13"
      },
      "source": [
        "# Declarando a lista\n",
        "l2 = [3, 2, 5, 0, 0, 8, 3, 8, 8, 4, 0, 9, 7, 8, 9, 3, 6, 0, 1]\n",
        "print(l2)\n",
        "\n",
        "# Contando a lista\n",
        "qtdInicial = len(l2)\n",
        "print(qtdInicial)\n",
        "\n",
        "# Deletando os valores\n",
        "for i in l2:\n",
        "  if 0 in l2:\n",
        "    l2.remove(0)\n",
        "print(l2)\n",
        "\n",
        "# Contando a lista final\n",
        "qtdFinal = len(l2)\n",
        "print(qtdFinal)"
      ],
      "execution_count": 9,
      "outputs": [
        {
          "output_type": "stream",
          "name": "stdout",
          "text": [
            "[3, 2, 5, 0, 0, 8, 3, 8, 8, 4, 0, 9, 7, 8, 9, 3, 6, 0, 1]\n",
            "19\n",
            "[3, 2, 5, 8, 3, 8, 8, 4, 9, 7, 8, 9, 3, 6, 1]\n",
            "15\n"
          ]
        }
      ]
    },
    {
      "cell_type": "markdown",
      "metadata": {
        "id": "4A9XTtoV_D1C"
      },
      "source": [
        ""
      ]
    },
    {
      "cell_type": "markdown",
      "metadata": {
        "id": "3vUjfYld_mJc"
      },
      "source": [
        "* Ordenando a Lista\n",
        "\n",
        "Existe 2 maneiras de ordenar. Uma delas é uma função e a outra é um método.\n",
        "\n",
        "```\n",
        "sorted(lista)\n",
        "lista.sort()\n",
        "lista.sort(reverse = True)\n",
        "```\n",
        "\n",
        "<h3> Exemplo 4 </h3>\n",
        "\n",
        "Dada a lista abaixo:\n",
        "\n",
        "`l1 = [0, 3, 1, 7, 5, 7, 4]`\n",
        "\n",
        "* Ordene a lista com o `sorted`e salve na variável sort1\n",
        "* Ordene a lista com o `.sort()` e salve na variável sort2\n",
        "* Compare os resultados\n",
        "* Faça a ordenação inversa da lista\n"
      ]
    },
    {
      "cell_type": "code",
      "metadata": {
        "colab": {
          "base_uri": "https://localhost:8080/"
        },
        "id": "gfl4Ys7CAJsq",
        "outputId": "5c82d82a-8b0d-48d5-c3c1-677d8eb2d640"
      },
      "source": [
        "# Declarando a lista\n",
        "l1 = [0, 3, 1, 7, 5, 7, 4]\n",
        "print(l1)\n",
        "print()\n",
        "\n",
        "# Fazendo o sort1\n",
        "sort1 = sorted(l1)\n",
        "print(sort1)\n",
        "print(l1)\n",
        "print()\n",
        "\n",
        "# Fazendo o sort2\n",
        "sort2 = l1.sort()\n",
        "print(sort2)\n",
        "print(l1)\n",
        "print()\n",
        "\n",
        "# Ordenação inversa\n",
        "l1.sort(reverse=True)\n",
        "print(l1)"
      ],
      "execution_count": 11,
      "outputs": [
        {
          "output_type": "stream",
          "name": "stdout",
          "text": [
            "[0, 3, 1, 7, 5, 7, 4]\n",
            "\n",
            "[0, 1, 3, 4, 5, 7, 7]\n",
            "[0, 3, 1, 7, 5, 7, 4]\n",
            "\n",
            "None\n",
            "[0, 1, 3, 4, 5, 7, 7]\n",
            "\n",
            "[7, 7, 5, 4, 3, 1, 0]\n"
          ]
        }
      ]
    },
    {
      "cell_type": "markdown",
      "metadata": {
        "id": "8X3mzIaUBC9o"
      },
      "source": [
        "<h2> Diferença entre Função e Método </h2>\n",
        "\n",
        "Como podemos ver no exemplo acima:\n",
        "\n",
        "* Funções são executadas em variáveis e possuem como output uma nova variável. Com isso as funções **NÃO** modificam a variável original. Toda função tem a cara: `saida = funcao(variavel)`\n",
        "* Já os métodos modificam as variáveis e salvam o resultado na própria variável. Todo método tem a cara: `variavel.metodo(configuracao)`\n",
        "\n",
        "Por este comportamente básico, os métodos não funcionam em tuplas."
      ]
    },
    {
      "cell_type": "markdown",
      "metadata": {
        "id": "1qo6OmevC_R0"
      },
      "source": [
        "## Declarando Listas\n",
        "\n",
        "É muito comum declararmos listas em branco para que o usuário possa inserir os valores e/ou possamos puxar os valores de algum banco de dados."
      ]
    },
    {
      "cell_type": "markdown",
      "metadata": {
        "id": "V03Wjr_eDLQS"
      },
      "source": [
        "<h2> Declarando Listas em branco </h2>\n",
        "\n",
        "```\n",
        "lista = []\n",
        "lista = list()\n",
        "```\n",
        "\n",
        "Após a declaração é possível ir adicionando os valores com o `.append()` que já vimos anteriormente.\n",
        "\n",
        "<h3> Exemplo 5 </h3>\n",
        "Crie uma lista vazia e peça para o usuário inserir 5 números dentro dela."
      ]
    },
    {
      "cell_type": "code",
      "metadata": {
        "colab": {
          "base_uri": "https://localhost:8080/"
        },
        "id": "i-zi__-CDlqB",
        "outputId": "72166d73-97ab-462c-b511-4e448fa46381"
      },
      "source": [
        "# Declarando a lista:\n",
        "lista = []\n",
        "n = 5\n",
        "\n",
        "for i in range(n):\n",
        "  lista.append(input(f'Digite o {i+1}º número: '))\n",
        "\n",
        "print(lista)"
      ],
      "execution_count": 14,
      "outputs": [
        {
          "output_type": "stream",
          "name": "stdout",
          "text": [
            "Digite o 1º número: 6\n",
            "Digite o 2º número: 9\n",
            "Digite o 3º número: 9\n",
            "Digite o 4º número: 6\n",
            "Digite o 5º número: 9\n",
            "['6', '9', '9', '6', '9']\n"
          ]
        }
      ]
    },
    {
      "cell_type": "markdown",
      "metadata": {
        "id": "fixT4bVfEEFT"
      },
      "source": [
        "<h2> Declarando Listas com Range </h2>\n",
        "\n",
        "```\n",
        "lista = list(range(inicio,fim,passo))\n",
        "```\n",
        "\n",
        "Para cálculos e análises matemáticas, é muito comum precisarmos criar uma lista de números com um passo conhecido para análises e até gráficos. Gerar esses números com o comando acima se torna bem simples.\n",
        "\n",
        "<h3> Exemplo 6 </h3>\n",
        "Crie uma lista de 0 a 10 com passo de 0.1"
      ]
    },
    {
      "cell_type": "code",
      "metadata": {
        "colab": {
          "base_uri": "https://localhost:8080/"
        },
        "id": "jGHANRyWEDvy",
        "outputId": "f6456aad-e534-49d2-8cdc-d89cd5fcbae7"
      },
      "source": [
        "# Criando lista\n",
        "eixox = list(range(0, 100 + 1, 1))\n",
        "\n",
        "for i in eixox:\n",
        "  eixox[i] /= 10\n",
        "\n",
        "print(eixox)"
      ],
      "execution_count": 17,
      "outputs": [
        {
          "output_type": "stream",
          "name": "stdout",
          "text": [
            "[0.0, 0.1, 0.2, 0.3, 0.4, 0.5, 0.6, 0.7, 0.8, 0.9, 1.0, 1.1, 1.2, 1.3, 1.4, 1.5, 1.6, 1.7, 1.8, 1.9, 2.0, 2.1, 2.2, 2.3, 2.4, 2.5, 2.6, 2.7, 2.8, 2.9, 3.0, 3.1, 3.2, 3.3, 3.4, 3.5, 3.6, 3.7, 3.8, 3.9, 4.0, 4.1, 4.2, 4.3, 4.4, 4.5, 4.6, 4.7, 4.8, 4.9, 5.0, 5.1, 5.2, 5.3, 5.4, 5.5, 5.6, 5.7, 5.8, 5.9, 6.0, 6.1, 6.2, 6.3, 6.4, 6.5, 6.6, 6.7, 6.8, 6.9, 7.0, 7.1, 7.2, 7.3, 7.4, 7.5, 7.6, 7.7, 7.8, 7.9, 8.0, 8.1, 8.2, 8.3, 8.4, 8.5, 8.6, 8.7, 8.8, 8.9, 9.0, 9.1, 9.2, 9.3, 9.4, 9.5, 9.6, 9.7, 9.8, 9.9, 10.0]\n"
          ]
        }
      ]
    },
    {
      "cell_type": "markdown",
      "metadata": {
        "id": "iIm9KhkUFb-X"
      },
      "source": [
        "Observe que a função `range( )` somente aceita números inteiros."
      ]
    },
    {
      "cell_type": "markdown",
      "metadata": {
        "id": "VlwXoOWGFoM2"
      },
      "source": [
        "### Copiando e Clonando Listas\n",
        "\n",
        "Quando declaramos uma nova variável e igualamos a uma lista, ela na verdade vira um “clone” da lista original. Qualquer modificação em uma das duas, irá impactar as duas."
      ]
    },
    {
      "cell_type": "markdown",
      "metadata": {
        "id": "4uPK4v1IFvD2"
      },
      "source": [
        "<h3> Exemplo 7 </h3>\n",
        "\n",
        "Crie uma lista:\n",
        "```\n",
        "l1 = [0, 2, 6, 4, 8, 1, 3]\n",
        "```\n",
        "Em seguida faça:\n",
        "```\n",
        "l2 = l1\n",
        "```\n",
        "Delete o último termo da lista `l2` e imprima as duas listas."
      ]
    },
    {
      "cell_type": "code",
      "metadata": {
        "colab": {
          "base_uri": "https://localhost:8080/"
        },
        "id": "fSc1HAhfGI0W",
        "outputId": "9cb73248-2359-4829-9edd-a0bc30537862"
      },
      "source": [
        "# Declarando lista:\n",
        "l1 = [0, 2, 6, 4, 8, 1, 3]\n",
        "l2 = l1\n",
        "\n",
        "l2.pop()\n",
        "\n",
        "print(l1)\n",
        "print(l2)"
      ],
      "execution_count": 19,
      "outputs": [
        {
          "output_type": "stream",
          "name": "stdout",
          "text": [
            "[0, 2, 6, 4, 8, 1]\n",
            "[0, 2, 6, 4, 8, 1]\n"
          ]
        }
      ]
    },
    {
      "cell_type": "markdown",
      "metadata": {
        "id": "haCJFErVGcwj"
      },
      "source": [
        "Observe que fazer:\n",
        "```\n",
        "l2 = l1\n",
        "```\n",
        "A gente acaba clonando as listas. Elas estão ocupando o mesmo espaço de memória do computador, portanto qualquer modificação feita em uma também será feita na outra, então muito cuidado na hora de clonar as listas.\n",
        "\n",
        "Se quisermos criar uma cópia da lista, para que essa segunda possa ser modificada a vontade, devemos utilizar a seguinte sintaxe:\n",
        "\n",
        "```\n",
        "l2 = l1[:]\n",
        "```\n",
        "\n",
        "<h3> Exemplo 8 </h3>\n",
        "\n",
        "Execute o mesmo exemplo anterios, só que agora copiando a lista ao invés de clonar."
      ]
    },
    {
      "cell_type": "code",
      "metadata": {
        "colab": {
          "base_uri": "https://localhost:8080/"
        },
        "id": "HoSPv3kAHFod",
        "outputId": "84d17083-5848-4c5b-cdb6-2bbb9853e940"
      },
      "source": [
        "# Declarando lista:\n",
        "l1 = [0, 2, 6, 4, 8, 1, 3]\n",
        "l2 = l1[:]\n",
        "print(l1)\n",
        "\n",
        "# Deletando último valor e plotando resultados\n",
        "l2.pop()\n",
        "print(l1)\n",
        "print(l2)"
      ],
      "execution_count": 22,
      "outputs": [
        {
          "output_type": "stream",
          "name": "stdout",
          "text": [
            "[0, 2, 6, 4, 8, 1, 3]\n",
            "[0, 2, 6, 4, 8, 1, 3]\n",
            "[0, 2, 6, 4, 8, 1]\n"
          ]
        }
      ]
    },
    {
      "cell_type": "markdown",
      "metadata": {
        "id": "_MPnD8yuHPeY"
      },
      "source": [
        "## Listas dentro de for\n",
        "\n",
        "A utilização das listas dentro de loopings é bem similar às tuplas. A diferença é que agora podemos modificar as listas e utilizar os loopings para adicionar novos valores à lista."
      ]
    },
    {
      "cell_type": "markdown",
      "metadata": {
        "id": "G31pZEWzHfHY"
      },
      "source": [
        "<h3> Exemplo 9 </h3>\n",
        "\n",
        "Dada as listas abaixo:\n",
        "```\n",
        "l1 = [0, 2, 6, 4, 8, 1, 3]\n",
        "l2 = [3, 2, 1, 7, 8, 2, 5]\n",
        "```\n",
        "Crie uma nova lista que será a soma de termo a termo da l1 com a l2."
      ]
    },
    {
      "cell_type": "code",
      "metadata": {
        "colab": {
          "base_uri": "https://localhost:8080/"
        },
        "id": "I6Wp70DOHeZ9",
        "outputId": "2faa49d5-fb00-4a3f-e1f1-7a48ea5e0531"
      },
      "source": [
        "# Declarando as listas:\n",
        "l1 = [0, 2, 6, 4, 8, 1, 3]\n",
        "l2 = [3, 2, 1, 7, 8, 2, 5]\n",
        "l3 = []\n",
        "\n",
        "for i, val in enumerate(l1):\n",
        "  print('l1[{}] = {} e l2 [{}] = {}'.format(i,l1[i],i,l2[i]))\n",
        "  l3.append(l1[i] + l2[i])\n",
        "print(l3)"
      ],
      "execution_count": 25,
      "outputs": [
        {
          "output_type": "stream",
          "name": "stdout",
          "text": [
            "l1[0] = 0 e l2 [0] = 3\n",
            "l1[1] = 2 e l2 [1] = 2\n",
            "l1[2] = 6 e l2 [2] = 1\n",
            "l1[3] = 4 e l2 [3] = 7\n",
            "l1[4] = 8 e l2 [4] = 8\n",
            "l1[5] = 1 e l2 [5] = 2\n",
            "l1[6] = 3 e l2 [6] = 5\n",
            "[3, 4, 7, 11, 16, 3, 8]\n"
          ]
        }
      ]
    },
    {
      "cell_type": "markdown",
      "metadata": {
        "id": "Wn2QJJY0IXw0"
      },
      "source": [
        "<h3> Exemplo 10 </h3>\n",
        "\n",
        "Dada as listas abaixo:\n",
        "```\n",
        "l1 = [0, 2, 6, 4, 8, 1, 3]\n",
        "l2 = [3, 2, 1, 7, 8]\n",
        "```\n",
        "Execute o mesmo código do exemplo anterior."
      ]
    },
    {
      "cell_type": "code",
      "metadata": {
        "id": "y12oeHFpIfaY"
      },
      "source": [
        "# Declarando as listas:\n",
        "l1 = [0, 2, 6, 4, 8, 1, 3]\n",
        "l2 = [3, 2, 1, 7, 8]\n",
        "l3 = []\n",
        "\n",
        "#for i, lista in enumerate(l1):\n",
        "#  l3.append(l1[i] + l2[i])\n",
        "#  print(f'{l1[i]} + {l2[i]} = {l3[i]}')\n",
        "#print(l3)"
      ],
      "execution_count": 79,
      "outputs": []
    },
    {
      "cell_type": "markdown",
      "metadata": {
        "id": "QQXPyvoKInMA"
      },
      "source": [
        "Observe que o erro dado acima é porque tentamos acessar o `l2[5]` que na veradde não existe.\n",
        "\n",
        "Para contornarmos esse erro podemos primeiro descobrir qual é a menor lista pra depois colocarmos esta dentro do `enumerate()`\n",
        "\n",
        "Mas tem um método bem mais fácil, que é usar a função `zip`\n",
        "\n",
        "```\n",
        "for val1, val2 in zip(l1, l2):\n",
        "```\n",
        "Essa função fará com que o passo do for ande sempre junto pras 2 listas (ou tuplas). Assim, as variáveis `val1` e `val2` vão ter sempre os valores das respectivas posições do passo do for.\n",
        "\n",
        "<h3> Exemplo 11 </h3>\n",
        "\n",
        "Adapte o código anterior usando o zip"
      ]
    },
    {
      "cell_type": "code",
      "metadata": {
        "colab": {
          "base_uri": "https://localhost:8080/"
        },
        "id": "feJ4YwSYJnKu",
        "outputId": "5a2442c7-64dc-48ca-cd3c-a05360028c5e"
      },
      "source": [
        "# Declarando as listas:\n",
        "l1 = [0, 2, 6, 4, 8, 1, 3]\n",
        "l2 = [3, 2, 1, 7, 8]\n",
        "l3 = []\n",
        "\n",
        "for v1, v2 in zip(l1, l2):\n",
        "  l3.append(v1 + v2)\n",
        "  print(f'{v1} + {v2} = {l3[-1]}')\n",
        "print(l3)"
      ],
      "execution_count": 27,
      "outputs": [
        {
          "output_type": "stream",
          "name": "stdout",
          "text": [
            "0 + 3 = 3\n",
            "2 + 2 = 4\n",
            "6 + 1 = 7\n",
            "4 + 7 = 11\n",
            "8 + 8 = 16\n",
            "[3, 4, 7, 11, 16]\n"
          ]
        }
      ]
    },
    {
      "cell_type": "markdown",
      "metadata": {
        "id": "av_vl-l4J4oC"
      },
      "source": [
        "Observe neste caso que já que as listas não possuem o mesmo tamanho, o for irá rodar uma quantidade de passos equivalente a quantidade de posições da menor lista."
      ]
    },
    {
      "cell_type": "markdown",
      "metadata": {
        "id": "2mKYxsmgKVI8"
      },
      "source": [
        "# Exercícios"
      ]
    },
    {
      "cell_type": "markdown",
      "metadata": {
        "id": "cFWQ-XT5KXMd"
      },
      "source": [
        "<h2> Exercício 1 </h2>\n",
        "\n",
        "Dada as listas e tuplas abaixo:\n",
        "```\n",
        "preco = (10.9, 5.40, 8.30, 3.40)\n",
        "qtdComprada = [0, 3, 2, 4]\n",
        "```\n",
        "Calcule e mostre para o usuário o valor total da compra dele, sendo que o valor total será a soma da multiplicação do preço do produto pela quantidade comprada"
      ]
    },
    {
      "cell_type": "code",
      "metadata": {
        "id": "F0-06U5wK5WC",
        "colab": {
          "base_uri": "https://localhost:8080/"
        },
        "outputId": "18a75942-efa4-4af1-ab99-8edf10e79397"
      },
      "source": [
        "# soma (preço * qtd)\n",
        "\n",
        "preco = (10.9, 5.40, 8.30, 3.40)\n",
        "qtdComprada = [0, 3, 2, 4]\n",
        "soma = 0\n",
        "valor = 0 \n",
        "\n",
        "for i, valor in enumerate(preco):\n",
        "  valor = preco[int(i)]*qtdComprada[int(i)]\n",
        "  soma += valor\n",
        "print(soma)"
      ],
      "execution_count": 64,
      "outputs": [
        {
          "output_type": "stream",
          "name": "stdout",
          "text": [
            "46.400000000000006\n"
          ]
        }
      ]
    },
    {
      "cell_type": "markdown",
      "metadata": {
        "id": "pKHED36bK5re"
      },
      "source": [
        "<h2> Exercício 2 </h2>\n",
        "Considerando o exercício anterior, e considerando que as posições das listas acima são os preços respectivos de:\n",
        "\n",
        "* Lanche\n",
        "* Refri\n",
        "* Batata\n",
        "* Bombom\n",
        "\n",
        "Peça para o usuário informar a quantidade de cada produto que ele irá comprar para depois mostrar o valor total da conta dele."
      ]
    },
    {
      "cell_type": "code",
      "metadata": {
        "id": "0uhRq_ENLhgj",
        "colab": {
          "base_uri": "https://localhost:8080/"
        },
        "outputId": "ba2a66e1-c583-4de1-e7f0-17c2647dd995"
      },
      "source": [
        "preco = (10.9, 5.40, 8.30, 3.40)\n",
        "item = ['Lanche','Refri','Batata','Bombom']\n",
        "qtdComprada = []\n",
        "soma = 0\n",
        "\n",
        "for i in item:\n",
        "  qtdComprada.append(int(input('Digite a quantidade de {} '.format(i))))\n",
        "print(qtdComprada)\n",
        "\n",
        "for i, val in enumerate(preco):\n",
        "  valor = preco[int(i)]*qtdComprada[int(i)]\n",
        "  soma += valor\n",
        "print(soma)"
      ],
      "execution_count": 78,
      "outputs": [
        {
          "output_type": "stream",
          "name": "stdout",
          "text": [
            "Digite a quantidade de Lanche 1\n",
            "Digite a quantidade de Refri 1\n",
            "Digite a quantidade de Batata 1\n",
            "Digite a quantidade de Bombom 1\n",
            "[1, 1, 1, 1]\n",
            "28.0\n"
          ]
        }
      ]
    },
    {
      "cell_type": "markdown",
      "metadata": {
        "id": "D5bx-H9wLiIY"
      },
      "source": [
        "<h2> Exercício 3 </h2>\n",
        "Faça um programa que pede para o usuário inserir um produto e salvar este produto numa lista.\n",
        "\n",
        "Caso o produto já esteja na lista, informe uma mensagem de erro e não cadastre o produto duplicado."
      ]
    },
    {
      "cell_type": "code",
      "metadata": {
        "id": "o3eo0Qs3L9HU",
        "colab": {
          "base_uri": "https://localhost:8080/"
        },
        "outputId": "76406a63-0323-45e1-c3ed-2c851973448f"
      },
      "source": [
        "lista = []\n",
        "continua = 's'\n",
        "\n",
        "while continua == 's':\n",
        "  num = (int(input('digite um número: ')))\n",
        "  if num in lista:\n",
        "    print('tente de novo')\n",
        "  else:\n",
        "    lista.append(num)\n",
        "  continua = (input('continua? (s/n) '))\n",
        "\n",
        "print(lista)"
      ],
      "execution_count": 111,
      "outputs": [
        {
          "output_type": "stream",
          "name": "stdout",
          "text": [
            "digite um número: 1\n",
            "continua? (s/n) s\n",
            "digite um número: 1\n",
            "tente de novo\n",
            "continua? (s/n) s\n",
            "digite um número: 2\n",
            "continua? (s/n) n\n",
            "[1, 2]\n"
          ]
        }
      ]
    }
  ]
}