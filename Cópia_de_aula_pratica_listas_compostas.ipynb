{
  "nbformat": 4,
  "nbformat_minor": 0,
  "metadata": {
    "colab": {
      "name": "Cópia de aula_pratica_listas_compostas",
      "provenance": [],
      "collapsed_sections": [],
      "include_colab_link": true
    },
    "kernelspec": {
      "name": "python3",
      "display_name": "Python 3"
    },
    "language_info": {
      "name": "python"
    }
  },
  "cells": [
    {
      "cell_type": "markdown",
      "metadata": {
        "id": "view-in-github",
        "colab_type": "text"
      },
      "source": [
        "<a href=\"https://colab.research.google.com/github/fredprada/Dex_Course_FredericoPrada/blob/main/C%C3%B3pia_de_aula_pratica_listas_compostas.ipynb\" target=\"_parent\"><img src=\"https://colab.research.google.com/assets/colab-badge.svg\" alt=\"Open In Colab\"/></a>"
      ]
    },
    {
      "cell_type": "markdown",
      "metadata": {
        "id": "99zA4INuNrJx"
      },
      "source": [
        "# Listas dentro de Listas\n",
        "\n",
        "As listas aceitam qualquer tipo de dados, até outras listas."
      ]
    },
    {
      "cell_type": "markdown",
      "metadata": {
        "id": "BynqPgYFNy6-"
      },
      "source": [
        "## Declarando uma lista composta\n",
        "\n",
        "Para declarar uma lista composta é só colocar uma lista dentro da outra"
      ]
    },
    {
      "cell_type": "markdown",
      "metadata": {
        "id": "z_X46qWcON0P"
      },
      "source": [
        "<h2> Entendendo como as listas compostas funcionam </h2>\n",
        "\n",
        "Imagina que eu tenho um cardápio. Dentro dele eu tenho vários comidas com seus respectivos preços.\n",
        "\n",
        "O cardápio seria então uma lista com todas as comidas\n",
        "\n",
        "Cada comida vai ser uma lista com o Nome da Comida e o seu Preço.\n",
        "\n",
        "```\n",
        "comida1 = ['Lanche', 10.9] \n",
        "comida2 = ['Batata',  5.5]\n",
        "comida3 = ['Refri' ,  3.9]\n",
        "cardapio = [comida1, comida2, comida3]\n",
        "```\n",
        "Então se acessando os termos, temos:\n",
        "```\n",
        "cardapio[0]    == comida1 == ['Lanche', 10.9]\n",
        "cardapio[0][1] == comida1[1] == 10.0\n",
        "cardapio[2]    == comida3 == ['Refri' ,  3.9]\n",
        "cardapio[2][0] == comida3[0] == 'Refri'\n",
        "```\n",
        "Vamos pegar uma lista dentro de outra lista já declarada e vamos entender como funciona acessar seus termos.\n",
        "\n",
        "<h3> Exemplo 1 </h3>\n",
        "\n",
        "Dado a lista abaixo:\n",
        "```\n",
        "cardapio = [['Lanche', 10.9], ['Batata',  5.5], ['Refri' ,  3.9]]\n",
        "```\n",
        "Acesse os valores:\n",
        "1. `cardapio[0]`, `cardapio[1]` e `cardapio[2]`\n",
        "2. `cardapio[0][0]`, `cardapio[0][1]`, `cardapio[1][0]`, `cardapio[1][1]`\n",
        "Repare nos tipos de cada variável"
      ]
    },
    {
      "cell_type": "code",
      "metadata": {
        "colab": {
          "base_uri": "https://localhost:8080/"
        },
        "id": "BA80Nqs7GO45",
        "outputId": "0fcf54ac-c82a-4ea4-8382-913b54d89d2e"
      },
      "source": [
        "# Declarando a lista de listas:\n",
        "cardapio = [['Lanche', 10.9], ['Batata',  5.5], ['Refri' ,  3.9]]\n",
        "# Imprimindo os valores:\n",
        "print(cardapio)\n",
        "print(cardapio[0])\n",
        "print(cardapio[0][1])\n",
        "print()\n",
        "print(f'cardapio[0] = {cardapio[0]}')\n",
        "print(f'cardapio[0] = {cardapio[1]}')\n",
        "print(f'cardapio[0] = {cardapio[2]}')\n",
        "print()\n",
        "print(f'cardapio[0][0] = {cardapio[0][0]}')\n",
        "print(f'cardapio[0][1] = {cardapio[0][1]}')\n",
        "print(f'cardapio[1][0] = {cardapio[1][0]}')\n",
        "print(f'cardapio[1][1] = {cardapio[1][1]}')\n"
      ],
      "execution_count": null,
      "outputs": [
        {
          "output_type": "stream",
          "name": "stdout",
          "text": [
            "[['Lanche', 10.9], ['Batata', 5.5], ['Refri', 3.9]]\n",
            "['Lanche', 10.9]\n",
            "10.9\n",
            "\n",
            "cardapio[0] = ['Lanche', 10.9]\n",
            "cardapio[0] = ['Batata', 5.5]\n",
            "cardapio[0] = ['Refri', 3.9]\n",
            "\n",
            "cardapio[0][0] = Lanche\n",
            "cardapio[0][1] = 10.9\n",
            "cardapio[1][0] = Batata\n",
            "cardapio[1][1] = 5.5\n"
          ]
        }
      ]
    },
    {
      "cell_type": "markdown",
      "metadata": {
        "id": "8VHRSx9BRL83"
      },
      "source": [
        "Repare que sempre que estamos acessando os valores dentro da lista, o **primeiro** `[ ]` vai acessar as posições mais externas da lista, o **segundo** `[ ]` vai acessar as posição da lista referente à lista do **primeiro** `[ ]` e assim em diante."
      ]
    },
    {
      "cell_type": "markdown",
      "metadata": {
        "id": "7jTzBPLYRoOI"
      },
      "source": [
        "Agora que já entendemos como acessar seus valores, vamos ver como declarar uma lista composta.\n",
        "\n",
        "<h2> Declarando por partes </h2>\n",
        "\n",
        "Neste caso, declara-se cada item de dentro da lista principal e depois coloca-se seus valores dentro da lista principal. Para quem está começando é a forma mais simples de entender:\n",
        "\n",
        "```\n",
        "lanche = ['Lanche', 10.9] \n",
        "batata = ['Batata',  5.5]\n",
        "refri  = ['Refri' ,  3.9]\n",
        "cardapio = [lanche, batata, refri]\n",
        "```\n",
        "No exemplo acima foram criadas 3 variáveis para armazenar listas com as informações de cada comida. A seguir essas listas foram colocadas dentro da lista principal: cardapio.\n",
        "\n",
        "<h3> Exemplo 2 </h3>\n",
        "\n",
        "* Declare a lista do exemplo acima.\n",
        "* Imprima o valor da posição: `cardapio[1][0]`\n",
        "* Compare os valores: `lanche == cardapio[0]`"
      ]
    },
    {
      "cell_type": "code",
      "metadata": {
        "colab": {
          "base_uri": "https://localhost:8080/"
        },
        "id": "QCEOfLvYSoKp",
        "outputId": "3457f3f9-db68-49e1-ff66-1eb9193d15b6"
      },
      "source": [
        "# Declarando a lista de listas:\n",
        "lanche = ['Lanche', 10.9] \n",
        "batata = ['Batata',  5.5]\n",
        "refri  = ['Refri' ,  3.9]\n",
        "# Imprimindo os valores:\n",
        "cardapio = [lanche, batata, refri]\n",
        "print(cardapio)\n",
        "print()\n",
        "print(cardapio[1][0])"
      ],
      "execution_count": null,
      "outputs": [
        {
          "output_type": "stream",
          "name": "stdout",
          "text": [
            "[['Lanche', 10.9], ['Batata', 5.5], ['Refri', 3.9]]\n",
            "\n",
            "Batata\n"
          ]
        }
      ]
    },
    {
      "cell_type": "markdown",
      "metadata": {
        "id": "KcUlf4GvTGyC"
      },
      "source": [
        "<h2> Declaração direta </h2>\n",
        "\n",
        "Neste caso, declara-se tudo de uma só vez.\n",
        "\n",
        "```\n",
        "cardapio = [['Lanche', 10.9], ['Batata',  5.5], ['Refri' ,  3.9]]\n",
        "```\n",
        "Já neste exemplo, nós temos o `[]` mais externo que é a lista mais externa, no qual cada posição dela vai acessar uma das 3 listas dentro do cardapio.\n",
        "\n",
        "Os `[]` mais internos são listas de cada uma das comidas do cardápio, mostrando os nomes e preços de cada item do cardápio.\n",
        "\n",
        "<h3> Exemplo 3 </h3>\n",
        "\n",
        "* Declare a lista do exemplo acima.\n",
        "* Imprima o valor da posição: `cardapio[2]` e `cardapio[2][1]`"
      ]
    },
    {
      "cell_type": "code",
      "metadata": {
        "colab": {
          "base_uri": "https://localhost:8080/"
        },
        "id": "BfQcMDvIUH8e",
        "outputId": "73a34ddd-2359-49a7-990a-bd5fb4ba1c3a"
      },
      "source": [
        "# Declarando a lista de listas:\n",
        "cardapio = [['Lanche', 10.9], ['Batata',  5.5], ['Refri' ,  3.9]]\n",
        "\n",
        "\n",
        "# Imprimindo os valores:\n",
        "print(cardapio[2][1])"
      ],
      "execution_count": null,
      "outputs": [
        {
          "output_type": "stream",
          "name": "stdout",
          "text": [
            "3.9\n"
          ]
        }
      ]
    },
    {
      "cell_type": "markdown",
      "metadata": {
        "id": "7CeCy-vNUb46"
      },
      "source": [
        "<h2> Declaração com .append() </h2>\n",
        "\n",
        "Como vimos nas aulas anteriores, podemos usar o append para inserir um novo item a uma lista.\n",
        "\n",
        "No caso de lista composta, podemos usar o `.append()` para inserir uma nova lista dentro da lista mais externa.\n",
        "\n",
        "```\n",
        "cardapio = []\n",
        "comida = []\n",
        "comida.append('Lanche')\n",
        "comida.append(10.9)\n",
        "cardapio.append(comida[:])\n",
        "```\n",
        "Verifique que primeiro temos que declarar nossa lista externa cardápio como uma lista vazia.\n",
        "\n",
        "A seguir criamos uma lista com os itens `comida`\n",
        "\n",
        "Finalmente usamos o `.append()` para colocarmos esses valores dentro da lista externa: `cardapio` \n",
        "\n",
        "<h3> Exemplo 4 </h3>\n",
        "\n",
        "* Declare a lista cardapio inteira usando o `append()`\n",
        "* Imprima o valor da posição: `cardapio[0]` e `cardapio[0][1]`"
      ]
    },
    {
      "cell_type": "code",
      "metadata": {
        "colab": {
          "base_uri": "https://localhost:8080/"
        },
        "id": "TeRFYEYKWR9o",
        "outputId": "5edfa20c-7e86-41d1-e48b-da05aa3d448d"
      },
      "source": [
        "# Declarando a lista de listas:\n",
        "cardapio = []\n",
        "comida = []\n",
        "\n",
        "comida.append('lanche')\n",
        "comida.append(10.9)\n",
        "cardapio.append(comida)\n",
        "print()\n",
        "print(f'comida 1 = {comida}')\n",
        "\n",
        "comida.clear()\n",
        "\n",
        "comida.append('batata')\n",
        "comida.append(254.75)\n",
        "cardapio.append(comida)\n",
        "\n",
        "# Imprimindo os valores:\n",
        "print()\n",
        "print(f'comida 2 = {comida}')\n",
        "print()\n",
        "print(f'cardapio 2 = {cardapio}')\n"
      ],
      "execution_count": null,
      "outputs": [
        {
          "output_type": "stream",
          "name": "stdout",
          "text": [
            "\n",
            "comida 1 = ['lanche', 10.9]\n",
            "\n",
            "comida 2 = ['batata', 254.75]\n",
            "\n",
            "cardapio 2 = [['batata', 254.75], ['batata', 254.75]]\n"
          ]
        }
      ]
    },
    {
      "cell_type": "markdown",
      "metadata": {
        "id": "FXb_wmSFXCLR"
      },
      "source": [
        "Observe que tivemos que usar um método novo:\n",
        "\n",
        "```\n",
        "var.clear()\n",
        "```\n",
        "Este método limpa a memória da variável, eliminando todos os valores que existam dentro dela.\n",
        "\n",
        "Esse é um método muito útil para quando criamos algumas variáveis temporárias.\n",
        "\n",
        "<h2> Exercício 1 </h2>\n",
        "\n",
        "Usando o método do `append()` e `loops`, crie uma lista composta, na qual o usuário irá fornecer os termos\n",
        "\n",
        "* A lista externa deve ter 3 itens\n",
        "* A lista intera deve ter 2 itens cada."
      ]
    },
    {
      "cell_type": "code",
      "metadata": {
        "colab": {
          "base_uri": "https://localhost:8080/"
        },
        "id": "aQf8MlzFG5E6",
        "outputId": "0c2a5c6e-316e-4e35-cf86-d54b5c10f157"
      },
      "source": [
        "# Declarando as listas vazias\n",
        "cardapio = []\n",
        "comida = []\n",
        "\n",
        "# Pedindo para o usuário fornecer os valores\n",
        "for i in range(0,3):\n",
        "  comida.append(str(input('digite o nome do lanche: ')))\n",
        "  comida.append(float(input('digite o valor da comida: ')))\n",
        "  cardapio.append(comida[:])\n",
        "  comida.clear()\n",
        "\n",
        "print(cardapio)"
      ],
      "execution_count": null,
      "outputs": [
        {
          "output_type": "stream",
          "name": "stdout",
          "text": [
            "digite o nome do lanche: a\n",
            "digite o valor da comida: 1\n",
            "digite o nome do lanche: b\n",
            "digite o valor da comida: 2\n",
            "digite o nome do lanche: c\n",
            "digite o valor da comida: 3\n",
            "[['a', 1.0], ['b', 2.0], ['c', 3.0]]\n",
            "[]\n"
          ]
        }
      ]
    },
    {
      "cell_type": "markdown",
      "metadata": {
        "id": "UizibgHCX7wi"
      },
      "source": [
        "## Acessando os valores de uma lista composta\n",
        "\n",
        "Para acessar os valores de uma lista composta é só usar os `[ ]`.\n",
        "\n",
        "Sempre é acessado a lista mais externa para a mais interna"
      ]
    },
    {
      "cell_type": "markdown",
      "metadata": {
        "id": "_ANFXPRQYbDr"
      },
      "source": [
        "<h2> Acesso direto </h2>\n",
        "\n",
        "Para acessar as listas, é só colocar a posição da lista desejada no primeiro `[ ]`\n",
        "\n",
        "```\n",
        "cardapio[0]    == ['Lanche', 10.9]\n",
        "cardapio[1]    == ['Batata',  5.5]\n",
        "cardapio[2]    == ['Refri' ,  3.9]\n",
        "```\n",
        "Para acessar os valores dentro das listas, é só colocar a posição do valor da lista desejada no segundo `[ ]`\n",
        "\n",
        "```\n",
        "cardapio[0][1] == 10.9\n",
        "cardapio[1][0] == 'Batata'\n",
        "cardapio[2][0] == 'Refri' \n",
        "```\n",
        "\n",
        "<h3> Exemplo 5 </h3>\n",
        "\n",
        "Dado a lista anterior: `cardapio`, acesse os valores listados acima."
      ]
    },
    {
      "cell_type": "code",
      "metadata": {
        "colab": {
          "base_uri": "https://localhost:8080/"
        },
        "id": "h50tsbqTZCNq",
        "outputId": "ab9647d9-c813-409f-feb1-b060a5c26f0e"
      },
      "source": [
        "# Acessando as listas:\n",
        "print(cardapio[0])\n",
        "print(cardapio[1])\n",
        "print(cardapio[2])\n",
        "\n",
        "# Acessando os valores dentro das listas: \n",
        "print(cardapio[0][1])\n",
        "print(cardapio[1][0])\n",
        "print(cardapio[2][0])"
      ],
      "execution_count": null,
      "outputs": [
        {
          "output_type": "stream",
          "name": "stdout",
          "text": [
            "['a', 1.0]\n",
            "['b', 2.0]\n",
            "['c', 3.0]\n",
            "1.0\n",
            "b\n",
            "c\n"
          ]
        }
      ]
    },
    {
      "cell_type": "markdown",
      "metadata": {
        "id": "1sllZVncZsAv"
      },
      "source": [
        "<h2> Acessando valores dentro de um for </h2>\n",
        "\n",
        "Assim como podemos declarar os valores dentro de loopings, também podemos acessá-los.\n",
        "```\n",
        "for c in cardapio:\n",
        "  print(f'c = {c}, c[0] = {c[0]}, c[1] = {c[1]}')\n",
        "```\n",
        "Basicamente o funcionamento do for é: Para cada `lista c` dentro de `cardapio`, plote a posição `[pos]` dessa lista.\n",
        "\n",
        "<h3> Exemplo 6 </h3>\n",
        "\n",
        "Dado a lista anterior: `cardapio`, acesse:\n",
        "* Todos os nomes no cardápio\n",
        "* Todos os preços no cardápio"
      ]
    },
    {
      "cell_type": "code",
      "metadata": {
        "colab": {
          "base_uri": "https://localhost:8080/"
        },
        "id": "zVk6X1qjJR0O",
        "outputId": "18da4a27-91fc-4cbb-aa93-2ed43c465ba5"
      },
      "source": [
        "# Imprimindo todas as listas c\n",
        "for c in cardapio:\n",
        "  print(f'cardapio [c] = {c}')\n",
        "\n",
        "# Imprimindo todos os nomes\n",
        "for c in cardapio:\n",
        "  print(f'c[0] = {c[0]}')\n",
        "\n",
        "# Imprimindo todos os preços\n",
        "soma = 0\n",
        "for c in cardapio:\n",
        "  print(f'c[1] = {c[1]}')\n",
        "  soma += c[1]\n",
        "print(soma)"
      ],
      "execution_count": null,
      "outputs": [
        {
          "output_type": "stream",
          "name": "stdout",
          "text": [
            "cardapio [c] = ['a', 1.0]\n",
            "cardapio [c] = ['b', 2.0]\n",
            "cardapio [c] = ['c', 3.0]\n",
            "c[0] = a\n",
            "c[0] = b\n",
            "c[0] = c\n",
            "c[1] = 1.0\n",
            "c[1] = 2.0\n",
            "c[1] = 3.0\n",
            "6.0\n"
          ]
        }
      ]
    },
    {
      "cell_type": "markdown",
      "metadata": {
        "id": "TqGayzuGnRg7"
      },
      "source": [
        "# Exercícios\n"
      ]
    },
    {
      "cell_type": "markdown",
      "metadata": {
        "id": "TePbhvmQnWKa"
      },
      "source": [
        "<h2> Exercício 1 </h2>\n",
        "\n",
        "Dada a lista: \n",
        "```\n",
        "cardapio = [['Lanche', 10.9], ['Batata',  5.5], ['Refri' ,  3.9]]\n",
        "```\n",
        "Faça um programa que irá mostrar o cardápio do restaurante de forma organizada."
      ]
    },
    {
      "cell_type": "code",
      "metadata": {
        "id": "wur0enxZntOs",
        "colab": {
          "base_uri": "https://localhost:8080/"
        },
        "outputId": "6a9eaee0-6a3f-47ac-dcce-65aef6cd27af"
      },
      "source": [
        "cardapio = [['Lanche', 10.9], ['Batata',  5.5], ['Refri' ,  3.9]]\n",
        "print('-'*7,'CARDAPIO','-'*7)\n",
        "print('-'*24)\n",
        "print(f'ITEM \\t\\t PREÇO')\n",
        "print('-'*24)\n",
        "\n",
        "\n",
        "for c in cardapio:\n",
        "  print(f'{c[0]} \\t\\t R$ {c[1]}')\n",
        "print('-'*24)\n"
      ],
      "execution_count": 9,
      "outputs": [
        {
          "output_type": "stream",
          "name": "stdout",
          "text": [
            "------- CARDAPIO -------\n",
            "------------------------\n",
            "ITEM \t\t PREÇO\n",
            "------------------------\n",
            "Lanche \t\t R$ 10.9\n",
            "Batata \t\t R$ 5.5\n",
            "Refri \t\t R$ 3.9\n",
            "------------------------\n"
          ]
        }
      ]
    },
    {
      "cell_type": "markdown",
      "metadata": {
        "id": "fTU72RWcnttp"
      },
      "source": [
        "<h2> Exercício 2 </h2>\n",
        "\n",
        "Faça um programa que irá mostrar item a item do cardápio para o usuário e irá perguntar quantos daquele item a pessoa quer comprar.\n",
        "\n",
        "No final mostre a quantidade de cada item comprado e também o valor total da compra."
      ]
    },
    {
      "cell_type": "code",
      "metadata": {
        "id": "mj12E2M5oLrU",
        "colab": {
          "base_uri": "https://localhost:8080/"
        },
        "outputId": "7aa76c31-93db-4812-8cdd-d72b4da1f545"
      },
      "source": [
        "cardapio = [['Lanche', 10.9], ['Batata',  5.5], ['Refri' ,  3.9]]\n",
        "i = 0\n",
        "j = 0\n",
        "pedido = []\n",
        "soma = 0\n",
        "\n",
        "for c in cardapio:\n",
        "  i += 1\n",
        "  print(f'o {i}° item é : {c[0]} ')\n",
        "  qtd = int(input('Quantos você vai querer? '))\n",
        "  pedido.append(c[0])\n",
        "  pedido.append(qtd)\n",
        "  soma += qtd*c[1]\n",
        "\n",
        "print()\n",
        "print(pedido)\n",
        "\n",
        "for c in pedido:\n",
        "  i += 1\n",
        "  print(f'{c}')\n",
        "\n",
        "print()\n",
        "print(f'O valor total é: {soma}')"
      ],
      "execution_count": 63,
      "outputs": [
        {
          "output_type": "stream",
          "name": "stdout",
          "text": [
            "o 1° item é : Lanche \n",
            "Quantos você vai querer? 1\n",
            "o 2° item é : Batata \n",
            "Quantos você vai querer? 2\n",
            "o 3° item é : Refri \n",
            "Quantos você vai querer? 3\n",
            "\n",
            "['Lanche', 1, 'Batata', 2, 'Refri', 3]\n",
            "Lanche\n",
            "1\n",
            "Batata\n",
            "2\n",
            "Refri\n",
            "3\n",
            "\n",
            "O valor total é: 33.599999999999994\n"
          ]
        }
      ]
    },
    {
      "cell_type": "markdown",
      "metadata": {
        "id": "GdhY9fG3oMAb"
      },
      "source": [
        "<h2> Exercício 3 </h2>\n",
        "Faça um programa que o usuário cadastre algumas informações sobre clientes:\n",
        "\n",
        "* nome\n",
        "* email\n",
        "* telefone\n",
        "* idade\n",
        "\n",
        "A seguir faça um sistema de pesquisa, no qual o usuário digita o email e o sistema mostra todas as informações deste usuário.\n"
      ]
    },
    {
      "cell_type": "code",
      "metadata": {
        "id": "7etBAWLGopQS",
        "colab": {
          "base_uri": "https://localhost:8080/"
        },
        "outputId": "e31d95f5-b372-4896-aeca-bb42f8d71a2c"
      },
      "source": [
        "informacoes = ['nome','email','telefone','idade']\n",
        "cadastro = []\n",
        "continua = 's'\n",
        "\n",
        "while continua == 's':\n",
        "  for i in informacoes:\n",
        "    cadastro.append(input(f'{i}: '))\n",
        "  continua = input('Quer registrar outro usuário? (s/n) ')"
      ],
      "execution_count": 65,
      "outputs": [
        {
          "name": "stdout",
          "output_type": "stream",
          "text": [
            "nome: aaa\n",
            "email: bbb\n",
            "telefone: ccc\n",
            "idade: ddd\n",
            "Quer registrar outro usuário? (s/n) n\n"
          ]
        }
      ]
    },
    {
      "cell_type": "code",
      "metadata": {
        "colab": {
          "base_uri": "https://localhost:8080/"
        },
        "id": "yHMELCJLMo5B",
        "outputId": "3dfec291-045a-4b03-ee3f-8519745bc6e1"
      },
      "source": [
        "pesquisa = input('digite o email: ')\n",
        "nome_pesquisa = cadastro.index(pesquisa) - 1\n",
        "telefone_pesquisa = cadastro.index(pesquisa) + 1\n",
        "idade_pesquisa = cadastro.index(pesquisa) + 2\n",
        "\n",
        "print(f'Nome: \\t{cadastro[nome_pesquisa]}')\n",
        "print(f'Telefone: \\t{cadastro[telefone_pesquisa]}')\n",
        "print(f'Idade: \\t{cadastro[idade_pesquisa]}')"
      ],
      "execution_count": 67,
      "outputs": [
        {
          "output_type": "stream",
          "name": "stdout",
          "text": [
            "digite o email: bbb\n",
            "Nome: \taaa\n",
            "Telefone: \tccc\n",
            "Idade: \tddd\n"
          ]
        }
      ]
    },
    {
      "cell_type": "code",
      "metadata": {
        "colab": {
          "base_uri": "https://localhost:8080/"
        },
        "id": "GVTMOYR1NufD",
        "outputId": "dc92cb22-bb92-43f9-8e80-e01d4b976c44"
      },
      "source": [
        "def variaveis():\n",
        "  nome = []\n",
        "  email = []\n",
        "  telefone = []\n",
        "  idade = []\n",
        "\n",
        "def cadastramento():\n",
        "  continua = 's'\n",
        "  while continua == 's':\n",
        "    nome.append(input('Nome: '))\n",
        "    email.append(input('Email: '))\n",
        "    telefone.append(input('Telefone: '))\n",
        "    idade.append(int(input('Idade: ')))\n",
        "    nome.append(nome)\n",
        "    email.append(email)\n",
        "    telefone.append(telefone)\n",
        "    idade.append(idade)\n",
        "    continua = input('Quer registrar outro usuário? (s/n) ')\n",
        "\n",
        "cadastramento()"
      ],
      "execution_count": 69,
      "outputs": [
        {
          "name": "stdout",
          "output_type": "stream",
          "text": [
            "Nome: aaa\n",
            "Email: bbb\n",
            "Telefone: ccc\n",
            "Idade: 111\n",
            "Quer registrar outro usuário? (s/n) n\n"
          ]
        }
      ]
    },
    {
      "cell_type": "code",
      "metadata": {
        "colab": {
          "base_uri": "https://localhost:8080/"
        },
        "id": "mj3kkBMMPKi1",
        "outputId": "c16b5cd3-8ac2-4565-a715-1ea123dc169a"
      },
      "source": [
        "def pesquisa():\n",
        "  pesquisa = input('digite o email: ')\n",
        "  if pesquisa in email:\n",
        "    print(f'Nome: {nome[email.index(pesquisa)]}')\n",
        "    print(f'Telefone: {telefone[email.index(pesquisa)]}')\n",
        "    print(f'Idade: {idade[email.index(pesquisa)]}')\n",
        "  else:\n",
        "    print('Este email não está cadastrado')\n",
        "\n",
        "pesquisa()\n",
        "\n",
        "continua = 's'\n",
        "\n",
        "novaPesquisa = input('pesquisar novamente? (s/n) ')\n",
        "if novaPesquisa == 's':\n",
        "  pesquisa()\n",
        "novoCadastro = input('cadastrar? (s/n) ')\n",
        "if novoCadastro == 's':\n",
        "  cadastramento()"
      ],
      "execution_count": 82,
      "outputs": [
        {
          "name": "stdout",
          "output_type": "stream",
          "text": [
            "digite o email: aaa\n",
            "Nome: \tbbb\n",
            "Telefone: \teee\n",
            "Idade: \t222\n",
            "pesquisar novamente? (s/n) n\n",
            "cadastrar? (s/n) n\n"
          ]
        }
      ]
    }
  ]
}