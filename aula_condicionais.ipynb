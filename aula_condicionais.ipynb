{
  "nbformat": 4,
  "nbformat_minor": 0,
  "metadata": {
    "colab": {
      "name": "aula_condicionais.ipynb",
      "provenance": [],
      "collapsed_sections": [],
      "authorship_tag": "ABX9TyP+bd8wSNfhnyI9gkFhzK9F",
      "include_colab_link": true
    },
    "kernelspec": {
      "name": "python3",
      "display_name": "Python 3"
    },
    "language_info": {
      "name": "python"
    }
  },
  "cells": [
    {
      "cell_type": "markdown",
      "metadata": {
        "id": "view-in-github",
        "colab_type": "text"
      },
      "source": [
        "<a href=\"https://colab.research.google.com/github/fredprada/Dex_Course_FredericoPrada/blob/main/aula_condicionais.ipynb\" target=\"_parent\"><img src=\"https://colab.research.google.com/assets/colab-badge.svg\" alt=\"Open In Colab\"/></a>"
      ]
    },
    {
      "cell_type": "markdown",
      "metadata": {
        "id": "u1qPBpVLrjM5"
      },
      "source": [
        "# CONDICIONAIS"
      ]
    },
    {
      "cell_type": "markdown",
      "metadata": {
        "id": "nbPRPEZ7rmqI"
      },
      "source": [
        "## Comparadores <br>\n",
        "' ==<br>\n",
        "' !=<br>\n",
        "' ><br>\n",
        "' >=<br>\n",
        "' <<br>\n",
        "' <=<br>"
      ]
    },
    {
      "cell_type": "code",
      "metadata": {
        "colab": {
          "base_uri": "https://localhost:8080/"
        },
        "id": "TzCHTShksXw4",
        "outputId": "5729f51d-00ba-47dd-e4ef-f4883b105c16"
      },
      "source": [
        "a = 3\n",
        "if a == 2:\n",
        "  print(True)\n",
        "else:\n",
        "  print(False)\n",
        "print('pronto')"
      ],
      "execution_count": 5,
      "outputs": [
        {
          "output_type": "stream",
          "name": "stdout",
          "text": [
            "False\n",
            "pronto\n"
          ]
        }
      ]
    },
    {
      "cell_type": "code",
      "metadata": {
        "colab": {
          "base_uri": "https://localhost:8080/"
        },
        "id": "p60zr-CZtK3J",
        "outputId": "55d28ae0-7f55-4245-ebbe-d185b1406012"
      },
      "source": [
        "a = 9\n",
        "if a%2 == 0:\n",
        "  print('par')\n",
        "elif a%2 == 1:\n",
        "  print('impar')\n",
        "else:\n",
        "  print(False)\n",
        "print('pronto')"
      ],
      "execution_count": 15,
      "outputs": [
        {
          "output_type": "stream",
          "name": "stdout",
          "text": [
            "impar\n",
            "pronto\n"
          ]
        }
      ]
    },
    {
      "cell_type": "markdown",
      "metadata": {
        "id": "3RumP6lwuP0p"
      },
      "source": [
        "## Operadores lógicos\n",
        "* and\n",
        "* or"
      ]
    },
    {
      "cell_type": "code",
      "metadata": {
        "colab": {
          "base_uri": "https://localhost:8080/"
        },
        "id": "KBBUINFatx1l",
        "outputId": "49f2bbcd-537e-4c8c-f68a-eb9d028ddd48"
      },
      "source": [
        "saldo = 20\n",
        "precoLanche = 50\n",
        "\n",
        "if saldo >= 20 and precoLanche <10:\n",
        "  print('compra')\n",
        "else:\n",
        "  print('não compra')"
      ],
      "execution_count": 17,
      "outputs": [
        {
          "output_type": "stream",
          "name": "stdout",
          "text": [
            "não compra\n"
          ]
        }
      ]
    },
    {
      "cell_type": "markdown",
      "metadata": {
        "id": "-XGLJOqBu_LT"
      },
      "source": [
        "## Verificando variáveis <br>\n",
        ".isnumeric() <br>\n",
        ".isalpha() <br>\n",
        ".isalnum() <br>"
      ]
    },
    {
      "cell_type": "code",
      "metadata": {
        "colab": {
          "base_uri": "https://localhost:8080/"
        },
        "id": "S1KJbJpvvank",
        "outputId": "9e1bab81-bf1c-4d4a-e7da-d9681a2a2164"
      },
      "source": [
        "var = input('digite algo: ')\n",
        "type(var)"
      ],
      "execution_count": 24,
      "outputs": [
        {
          "name": "stdout",
          "output_type": "stream",
          "text": [
            "digite algo: aaasfasf\n"
          ]
        },
        {
          "output_type": "execute_result",
          "data": {
            "text/plain": [
              "str"
            ]
          },
          "metadata": {},
          "execution_count": 24
        }
      ]
    },
    {
      "cell_type": "code",
      "metadata": {
        "colab": {
          "base_uri": "https://localhost:8080/"
        },
        "id": "k892k91Yvs7Z",
        "outputId": "bee98c8c-9a41-489d-dd3e-bdffa5dd905d"
      },
      "source": [
        "var.isalpha()"
      ],
      "execution_count": 25,
      "outputs": [
        {
          "output_type": "execute_result",
          "data": {
            "text/plain": [
              "True"
            ]
          },
          "metadata": {},
          "execution_count": 25
        }
      ]
    },
    {
      "cell_type": "code",
      "metadata": {
        "colab": {
          "base_uri": "https://localhost:8080/"
        },
        "id": "m_PT4yEhvwhn",
        "outputId": "93d1f0bd-80c2-49f9-fdfc-097153b853da"
      },
      "source": [
        "var.isalnum()"
      ],
      "execution_count": 26,
      "outputs": [
        {
          "output_type": "execute_result",
          "data": {
            "text/plain": [
              "True"
            ]
          },
          "metadata": {},
          "execution_count": 26
        }
      ]
    }
  ]
}