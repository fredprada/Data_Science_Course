{
  "nbformat": 4,
  "nbformat_minor": 0,
  "metadata": {
    "colab": {
      "name": "aula_condicionais.ipynb",
      "provenance": [],
      "collapsed_sections": [],
      "authorship_tag": "ABX9TyMgtes9Cgf1Gn8fdx++g+vv",
      "include_colab_link": true
    },
    "kernelspec": {
      "name": "python3",
      "display_name": "Python 3"
    },
    "language_info": {
      "name": "python"
    }
  },
  "cells": [
    {
      "cell_type": "markdown",
      "metadata": {
        "id": "view-in-github",
        "colab_type": "text"
      },
      "source": [
        "<a href=\"https://colab.research.google.com/github/fredprada/Dex_Course_FredericoPrada/blob/main/aula_condicionais.ipynb\" target=\"_parent\"><img src=\"https://colab.research.google.com/assets/colab-badge.svg\" alt=\"Open In Colab\"/></a>"
      ]
    },
    {
      "cell_type": "markdown",
      "metadata": {
        "id": "u1qPBpVLrjM5"
      },
      "source": [
        "# CONDICIONAIS"
      ]
    },
    {
      "cell_type": "markdown",
      "metadata": {
        "id": "nbPRPEZ7rmqI"
      },
      "source": [
        "## Comparadores <br>\n",
        "' ==<br>\n",
        "' !=<br>\n",
        "' ><br>\n",
        "' >=<br>\n",
        "' <<br>\n",
        "' <=<br>"
      ]
    },
    {
      "cell_type": "code",
      "metadata": {
        "id": "nu2HQIEIrhB9"
      },
      "source": [
        ""
      ],
      "execution_count": null,
      "outputs": []
    }
  ]
}