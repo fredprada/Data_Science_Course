{
  "nbformat": 4,
  "nbformat_minor": 0,
  "metadata": {
    "colab": {
      "name": "aula_pratica_dicionario",
      "provenance": [],
      "collapsed_sections": [],
      "include_colab_link": true
    },
    "kernelspec": {
      "name": "python3",
      "display_name": "Python 3"
    },
    "language_info": {
      "name": "python"
    }
  },
  "cells": [
    {
      "cell_type": "markdown",
      "metadata": {
        "id": "view-in-github",
        "colab_type": "text"
      },
      "source": [
        "<a href=\"https://colab.research.google.com/github/fredprada/Dex_Course_FredericoPrada/blob/main/aula_pratica_dicionario.ipynb\" target=\"_parent\"><img src=\"https://colab.research.google.com/assets/colab-badge.svg\" alt=\"Open In Colab\"/></a>"
      ]
    },
    {
      "cell_type": "markdown",
      "metadata": {
        "id": "99zA4INuNrJx"
      },
      "source": [
        "# Dicionários\n",
        "Os dicionários são listas com índices textuais."
      ]
    },
    {
      "cell_type": "markdown",
      "metadata": {
        "id": "GZhm7ESUUr1N"
      },
      "source": [
        "Os dicionários são estruturas de dados, semelhantes a listas, que as posições ao invés de serem numéricas são chaves.\n",
        "\n",
        "<h3> Lista </h3>\n",
        "\n",
        "```\n",
        "lista = ['Everton', 29, 'São José']\n",
        "```\n",
        "\n",
        "<h3> Dicionários </h3>\n",
        "\n",
        "```\n",
        "dicio = {'nome': 'Everton', \n",
        "        'idade': 29, \n",
        "       'cidade': 'São José'}\n",
        "```\n",
        "\n",
        "<h3> Exemplo 1 </h3>\n",
        "\n",
        "Declare e imprima as duas listas acima exatamente como estão.\n"
      ]
    },
    {
      "cell_type": "code",
      "metadata": {
        "colab": {
          "base_uri": "https://localhost:8080/"
        },
        "id": "fQaspB-YGbno",
        "outputId": "c1ba51d3-4edc-43c6-bc54-0f1915140d2e"
      },
      "source": [
        "#Lista:\n",
        "lista = ['Everton', 29, 'São José']\n",
        "\n",
        "#Dicionário equivalente.\n",
        "dicionario = {\n",
        "                'nome': 'Fred',\n",
        "                'idade':'24',\n",
        "                'cidade':'Piracicaba'\n",
        "}\n",
        "print(lista)\n",
        "print(dicionario)"
      ],
      "execution_count": 1,
      "outputs": [
        {
          "output_type": "stream",
          "name": "stdout",
          "text": [
            "['Everton', 29, 'São José']\n",
            "{'nome': 'Fred', 'idade': '24', 'cidade': 'Piracicaba'}\n"
          ]
        }
      ]
    },
    {
      "cell_type": "markdown",
      "metadata": {
        "id": "6MV4Lfcno0bp"
      },
      "source": [
        "Comparando os dois resultados vemos que os índices numéricos são substituidos por chaves textuais:\n",
        "\n",
        "```\n",
        "              [0]        [1]            [2]\n",
        "lista = [ 'Everton' ,     29      , 'São José']\n",
        "```\n",
        "Então para acessarmos os valores exatos da lista que a gente deseja, e necessário saber o que cada posição significa, senão faremos análises erradas.\n",
        "\n",
        "Já no dicionário, fica assim:\n",
        "```\n",
        "            'nome':     'idade':     'cidade:\n",
        "dicio = { 'Everton' ,     29      , 'São José'}\n",
        "```\n",
        "Muito similar as colunas de uma tabela ou banco de dados.\n"
      ]
    },
    {
      "cell_type": "markdown",
      "metadata": {
        "id": "mSCSNOjdo0Rk"
      },
      "source": [
        "## Estrutura de um Dicionário.\n",
        "\n",
        "A estrutura de um dicionário é baseada em 3 pontos importantes: **keys**, **values** e **items**"
      ]
    },
    {
      "cell_type": "markdown",
      "metadata": {
        "id": "vtc8ZNF9qpRq"
      },
      "source": [
        "Vamos observar de novo a dicionário de exemplo:\n",
        "\n",
        "```\n",
        "         'keys'  : values\n",
        "dicio = {\n",
        "         'nome'  : 'Everton',       -> items\n",
        "         'idade' :  29, \n",
        "         'cidade': 'São José'\n",
        "        }\n",
        "```\n",
        "> As `keys` são as chaves, o que substituem as posições de uma lista. Quando quisermos acessar um valor de um dicionário, é dessa chave que temos que lembrar. Assim como num Banco de Dados são as colunas que vamos acessar que precisamos saber os nomes. </br>\n",
        "> Os `values` são os valores, o equivalente aos valores dentro de uma lista. São as informações importantes do objeto que queremos acessar e fazer análises. </br>\n",
        "> Os `items` são o conjunto de `key + value`, uma novidade dos dicionários que irão nos ajudar nos loopings."
      ]
    },
    {
      "cell_type": "markdown",
      "metadata": {
        "id": "MY1xIh9ctB-2"
      },
      "source": [
        "## Manipulando um Dicionário"
      ]
    },
    {
      "cell_type": "markdown",
      "metadata": {
        "id": "4z8-G4LtxUW3"
      },
      "source": [
        "<h2> Declarando um dicionário </h2>\n",
        "\n",
        "Todo dicionário é declarado pelas `{ }`\n",
        "\n",
        "* Declarando um dicionário vazio:\n",
        "```\n",
        "dic1 = {}\n",
        "dic2 = dict()\n",
        "```\n",
        "* Declarando um dicionário já preenchido.\n",
        "```\n",
        "dic3 = {\n",
        "        'key1' : 'value1',\n",
        "        'key2' : 'value2',\n",
        "        'key3' : 'value3'\n",
        "       }\n",
        "```\n",
        "<h3> Pontos de atenção na declaração </h3>\n",
        "\n",
        "* todas as `keys` são strings, e portanto devem estar entre aspas\n",
        "* os `values` podem ser qualquer tipo de dado e/ou estrutura: `str`, `int`, `float`, `bool`, `list`, `tuple`, `dict`, ...\n",
        "* a declaração direta de valor para uma chave sempre é feita com `:`\n",
        "* embora não seja necessário, é comum declarar um dicionário dando \"*enter*\" entre cada chave para ficar visualmente mais fácil de ler no programa.\n",
        "\n",
        "<h3> Exemplo 2 </h3>\n",
        "Imprima os três dicionários acima e veja se você declarou corretamente."
      ]
    },
    {
      "cell_type": "code",
      "metadata": {
        "colab": {
          "base_uri": "https://localhost:8080/"
        },
        "id": "e7XMflNuzMEr",
        "outputId": "309776ed-6de5-4164-a5b8-6284ba5b6992"
      },
      "source": [
        "# Declarando dicionários\n",
        "dic1 = {}\n",
        "dic2 = dict()\n",
        "dic3 = {\n",
        "    'key1':'1',\n",
        "    'key2':38.5,\n",
        "    'key3':True,\n",
        "    'key4':[0, 1]\n",
        "}\n",
        "# Imprimindo\n",
        "print(dic1)\n",
        "print(dic2)\n",
        "print(dic3)"
      ],
      "execution_count": 5,
      "outputs": [
        {
          "output_type": "stream",
          "name": "stdout",
          "text": [
            "{}\n",
            "{}\n",
            "{'key1': '1', 'key2': 38.5, 'key3': True, 'key4': [0, 1]}\n"
          ]
        }
      ]
    },
    {
      "cell_type": "markdown",
      "metadata": {
        "id": "vDe1gxYrzgrs"
      },
      "source": [
        "Assim como nas listas, a declaração de dicionários vazios são ótimos para quando os valores do dicionário precisam ser declarados pelo usuário ou lidos de alguma fonte externa.\n",
        "\n",
        "<h2> Acessando os valores </h2>\n",
        "\n",
        "```\n",
        "dicio['key'] == value\n",
        "```\n",
        "Acessar os valores de um dicionário é muito similar a acessar os valores de uma lista. Só que no lugar da `posição` usamos as `chaves`\n",
        "\n",
        "<h3> Exemplo 3 </h3>\n",
        "Dado o dicionário abaixo, acesse cada um de seus valores.\n",
        "\n",
        "```\n",
        "pessoa = {\n",
        "         'nome'  : 'Everton',\n",
        "         'idade' :  29, \n",
        "         'cidade': 'São José'\n",
        "}\n",
        "```"
      ]
    },
    {
      "cell_type": "code",
      "metadata": {
        "colab": {
          "base_uri": "https://localhost:8080/"
        },
        "id": "3UWk9Qbt0ZLT",
        "outputId": "bf55013b-0a66-4854-bce2-f0fa4be97aee"
      },
      "source": [
        "# Declarando dicionário:\n",
        "pessoa = {\n",
        "         'nome'  : 'Fred',\n",
        "         'idade' :  24, \n",
        "         'cidade': 'Pira'\n",
        "}\n",
        "\n",
        "# Acessando os valores:\n",
        "print(pessoa['nome'])"
      ],
      "execution_count": 8,
      "outputs": [
        {
          "output_type": "stream",
          "name": "stdout",
          "text": [
            "Fred\n"
          ]
        }
      ]
    },
    {
      "cell_type": "markdown",
      "metadata": {
        "id": "9VlHNRy00nV3"
      },
      "source": [
        "<h2> Modificando os valores </h2>\n",
        "\n",
        "```\n",
        "dicio['key'] = value\n",
        "```\n",
        "Similar à listas, se atribuirmos valor a uma posição/chave, já modificamos o valor da chave do dicionário.\n",
        "\n",
        "<h3> Exemplo 4 </h3>\n",
        "Usando o mesmo dicionário: `pessoa`, modifique a chave `'cidade'` para `'São Paulo'` e imprima o resultado."
      ]
    },
    {
      "cell_type": "code",
      "metadata": {
        "colab": {
          "base_uri": "https://localhost:8080/"
        },
        "id": "Wn1f-PUd1Qx5",
        "outputId": "4025aacc-0920-4985-d1c9-fb2b80c691c8"
      },
      "source": [
        "# Modificando o valor:\n",
        "pessoa['cidade'] = 'Piracicabaaaa'\n",
        "\n",
        "# Imprimindo valores:\n",
        "print(pessoa['cidade'])\n",
        "print(pessoa)"
      ],
      "execution_count": 12,
      "outputs": [
        {
          "output_type": "stream",
          "name": "stdout",
          "text": [
            "Piracicabaaaa\n",
            "{'nome': 'Fred', 'idade': 24, 'cidade': 'Piracicabaaaa'}\n"
          ]
        }
      ]
    },
    {
      "cell_type": "markdown",
      "metadata": {
        "id": "7IjS-9ls1p90"
      },
      "source": [
        "<h2> Criando nova chave </h2>\n",
        "\n",
        "```\n",
        "dicio['key'] = value\n",
        "```\n",
        "Para criar uma nova chave, é exatamente igual a modificar uma chave. A partir do momento que atribuimos um valor, o Python verifica se aquela chave já existe no dicionário. Caso não exista, ele cria uma nova automaticamente.\n",
        "\n",
        "<h3> Exemplo 5 </h3>\n",
        "\n",
        "Usando o mesmo dicionário: `pessoa`, crie uma chave `'peso'` com valor de `65` e imprima o resultado."
      ]
    },
    {
      "cell_type": "code",
      "metadata": {
        "colab": {
          "base_uri": "https://localhost:8080/"
        },
        "id": "BckVwl-a2KhQ",
        "outputId": "89404172-4eec-46af-f0fe-717e5ab26523"
      },
      "source": [
        "# Criando uma chave:\n",
        "pessoa['peso'] = 110\n",
        "\n",
        "# Imprimindo valores:\n",
        "print(pessoa)"
      ],
      "execution_count": 13,
      "outputs": [
        {
          "output_type": "stream",
          "name": "stdout",
          "text": [
            "{'nome': 'Fred', 'idade': 24, 'cidade': 'Piracicabaaaa', 'peso': 110}\n"
          ]
        }
      ]
    },
    {
      "cell_type": "markdown",
      "metadata": {
        "id": "Fo46GxPM2SzU"
      },
      "source": [
        "<h2> CUIDADO na declaração de novas chaves </h2>\n",
        "\n",
        "O Python é *Case Sensitive*, ou seja, se você tentar modificar o valor de uma chave, mas não colocar o nome da chave exatamente igual, você acabará criando uma nova chave.\n",
        "\n",
        "<h4> Sempre teste seus programas conforme for codando!!! </h4>\n",
        "\n",
        "<h3> Exemplo 6 </h3>\n",
        "\n",
        "Usando o mesmo dicionário: `pessoa`, crie uma chave `'Cidade'` com valor de `'São José'` e imprima o dicionário completo.\n"
      ]
    },
    {
      "cell_type": "code",
      "metadata": {
        "colab": {
          "base_uri": "https://localhost:8080/"
        },
        "id": "t5HIHPz-275n",
        "outputId": "0e6325ad-2ae0-44a6-b0e3-ac09160274c4"
      },
      "source": [
        "# Criando uma chave:\n",
        "pessoa['Cidade'] = 'aaa'\n",
        "\n",
        "# Imprimindo valores:\n",
        "print(pessoa)"
      ],
      "execution_count": 14,
      "outputs": [
        {
          "output_type": "stream",
          "name": "stdout",
          "text": [
            "{'nome': 'Fred', 'idade': 24, 'cidade': 'Piracicabaaaa', 'peso': 110, 'Cidade': 'aaa'}\n"
          ]
        }
      ]
    },
    {
      "cell_type": "markdown",
      "metadata": {
        "id": "uN36AhyW3IkN"
      },
      "source": [
        "Repare que agora temos 2 chaves \"similares\". Siga sempre o mesmo padrão de criação de nome de variáveis, listas, chaves, dicionários e etc para reduzir esse risco.\n",
        "\n",
        "Sempre analise as atuais chaves de um objeto antes de editá-lo de qualquer maneira.\n",
        "\n",
        "<h2> Deletando uma chave com seu valor </h2>\n",
        "\n",
        "```\n",
        "del dicio['chave']\n",
        "```\n",
        "Muito similar ao que fazíamos em listas, podemos usar o comando `del`\n",
        "\n",
        "<h3> Exemplo 7 </h3>\n",
        "\n",
        "Usando o mesmo dicionário: `pessoa` , delete a chave `'Cidade'` e imprima o dicionário completo."
      ]
    },
    {
      "cell_type": "code",
      "metadata": {
        "colab": {
          "base_uri": "https://localhost:8080/"
        },
        "id": "K99JuwZS39RZ",
        "outputId": "068254ec-2603-49bf-9a04-664a1ebe8c20"
      },
      "source": [
        "# Deletando uma chave:\n",
        "del pessoa['Cidade']\n",
        "\n",
        "# Imprimindo valores:\n",
        "print(pessoa)"
      ],
      "execution_count": 15,
      "outputs": [
        {
          "output_type": "stream",
          "name": "stdout",
          "text": [
            "{'nome': 'Fred', 'idade': 24, 'cidade': 'Piracicabaaaa', 'peso': 110}\n"
          ]
        }
      ]
    },
    {
      "cell_type": "markdown",
      "metadata": {
        "id": "W8dv8FqsAF8r"
      },
      "source": [
        "<h2> Acessando o dicionário </h2>\n",
        "\n",
        "```\n",
        "dicio          #dicionário completo\n",
        "dicio.values()  #somente os valores do dicionário\n",
        "dicio.keys()   #somente as chaves do dicionário\n",
        "dicio.items()  #chaves + valores do dicionário (usado em loopings)\n",
        "```\n",
        "Como visto anteriormente, os dicionários possuem 3 itens principais, e usaremos eles para acessar parâmetros específicos dos dicionários.\n",
        "\n",
        "<h3> Exemplo 8 </h3>\n",
        "\n",
        "Usando o mesmo dicionário: `pessoa` ,imprima cada um dos itens acima. "
      ]
    },
    {
      "cell_type": "code",
      "metadata": {
        "colab": {
          "base_uri": "https://localhost:8080/"
        },
        "id": "YBvEEABIA4wl",
        "outputId": "9bcfbac2-7514-44e6-bcd7-b8e23c3fe971"
      },
      "source": [
        "#Imprimindo valores\n",
        "print(pessoa)\n",
        "print()\n",
        "print(pessoa.values())\n",
        "print()\n",
        "print(pessoa.keys())\n",
        "print()\n",
        "print(pessoa.items())"
      ],
      "execution_count": 22,
      "outputs": [
        {
          "output_type": "stream",
          "name": "stdout",
          "text": [
            "{'nome': 'Fred', 'idade': 24, 'cidade': 'Piracicabaaaa', 'peso': 110}\n",
            "\n",
            "dict_values(['Fred', 24, 'Piracicabaaaa', 110])\n",
            "\n",
            "dict_keys(['nome', 'idade', 'cidade', 'peso'])\n",
            "\n",
            "dict_items([('nome', 'Fred'), ('idade', 24), ('cidade', 'Piracicabaaaa'), ('peso', 110)])\n"
          ]
        }
      ]
    },
    {
      "cell_type": "markdown",
      "metadata": {
        "id": "yl5duH1QBl_0"
      },
      "source": [
        "Repare que os 3 itens acabaram ficando parecidos com uma lista. Se usarmos o comando `list()` podemos até converter cada um desses itens em listas para trabalharmos de outras maneiras."
      ]
    },
    {
      "cell_type": "markdown",
      "metadata": {
        "id": "2z9VVPj6B3XI"
      },
      "source": [
        "## Dicionários dentro de for\n",
        "\n",
        "É comum utilizarmos os dicionários dentro de loopings para fazermos as análises. E para isso usaremos os 3 itens vistos acima: `values`,`keys` e `items`"
      ]
    },
    {
      "cell_type": "markdown",
      "metadata": {
        "id": "kSBNuGcuCkBs"
      },
      "source": [
        "<h2> Acessando os valores </h2>\n",
        "\n",
        "```\n",
        "for v in dicio.values():\n",
        "  print(v)\n",
        "```\n",
        "Acima entende-se: *Para cada valor dentro dos valores do dicionário, imprima valor*\n",
        "\n",
        "<h3> Exemplo 9 </h3>\n",
        "\n",
        "Considerando o dicionário `pessoa` imprima cada um de seus valores"
      ]
    },
    {
      "cell_type": "code",
      "metadata": {
        "colab": {
          "base_uri": "https://localhost:8080/"
        },
        "id": "hXqfa7flDCeZ",
        "outputId": "a0bb8ed9-a973-49d4-f472-996bfbec3279"
      },
      "source": [
        "#Imprimindo valores\n",
        "for v in pessoa.values():\n",
        "  print(v)"
      ],
      "execution_count": 25,
      "outputs": [
        {
          "output_type": "stream",
          "name": "stdout",
          "text": [
            "Fred\n",
            "24\n",
            "Piracicabaaaa\n",
            "110\n"
          ]
        }
      ]
    },
    {
      "cell_type": "markdown",
      "metadata": {
        "id": "cl5af-1KDSxj"
      },
      "source": [
        "<h2> Acessando as chaves </h2>\n",
        "\n",
        "```\n",
        "for k in dicio.keys():\n",
        "  print(k)\n",
        "```\n",
        "Acima entende-se: *Para cada chave dentro das chaves do dicionário, imprima chave*\n",
        "\n",
        "<h3> Exemplo 10 </h3>\n",
        "\n",
        "Considerando o dicionário `pessoa` imprima cada um de suas chaves"
      ]
    },
    {
      "cell_type": "code",
      "metadata": {
        "colab": {
          "base_uri": "https://localhost:8080/"
        },
        "id": "4OHgzd6FDkG3",
        "outputId": "caa35af3-ac2c-4565-d491-536fbcc4fa36"
      },
      "source": [
        "#Imprimindo chaves\n",
        "i=0\n",
        "for k in pessoa.keys():\n",
        "  i += 1\n",
        "  print(f'a {i}° chave é {k}')"
      ],
      "execution_count": 28,
      "outputs": [
        {
          "output_type": "stream",
          "name": "stdout",
          "text": [
            "a 1° chave é nome\n",
            "a 2° chave é idade\n",
            "a 3° chave é cidade\n",
            "a 4° chave é peso\n"
          ]
        }
      ]
    },
    {
      "cell_type": "markdown",
      "metadata": {
        "id": "BKYDSdbhDyzD"
      },
      "source": [
        "<h2> Acessando os items </h2>\n",
        "\n",
        "```\n",
        "for k, v in dicio.items():\n",
        "  print(k, v)\n",
        "```\n",
        "Acima entende-se: *Para cada chave e valor dentro dos itens do dicionário, imprima chave e valor*\n",
        "\n",
        "<h3> Exemplo 11 </h3>\n",
        "\n",
        "Considerando o dicionário `pessoa` imprima cada uma de suas chaves e respectivos valores."
      ]
    },
    {
      "cell_type": "code",
      "metadata": {
        "colab": {
          "base_uri": "https://localhost:8080/"
        },
        "id": "lmg-hC-fEHba",
        "outputId": "df2aae9f-0863-4073-8e30-842f3d7e8e33"
      },
      "source": [
        "#Imprimindo chaves e valores\n",
        "for k, v in pessoa.items():\n",
        "  print(f'O {k} é {v}')\n"
      ],
      "execution_count": 31,
      "outputs": [
        {
          "output_type": "stream",
          "name": "stdout",
          "text": [
            "O nome é Fred\n",
            "O idade é 24\n",
            "O cidade é Piracicabaaaa\n",
            "O peso é 110\n"
          ]
        }
      ]
    },
    {
      "cell_type": "markdown",
      "metadata": {
        "id": "0lNHLBSrEfNv"
      },
      "source": [
        "<h2> Exercício 1 </h2>\n",
        "\n",
        "Dado dicionário abaixo:\n",
        "```\n",
        "cardapio = {\n",
        "            'lanche' : 10.9,\n",
        "            'batata' : 5.5,\n",
        "            'refri' : 3.9\n",
        "}\n",
        "```\n",
        "1. Mostre o cardápio para o usuário\n",
        "2. Pergunte quantos itens ele quer de cada\n",
        "3. Calcule e mostre pra ele o valor total da conta"
      ]
    },
    {
      "cell_type": "code",
      "metadata": {
        "colab": {
          "base_uri": "https://localhost:8080/"
        },
        "id": "srLT4i4JFGgQ",
        "outputId": "d6ee4b03-df10-40a9-c8e2-dcaf32588cac"
      },
      "source": [
        "# Declarando dicionário\n",
        "cardapio = {\n",
        "            'lanche' : 100,\n",
        "            'batata' : 50,\n",
        "            'refri' : 30\n",
        "}\n",
        "\n",
        "# 1. Mostrando cardápio:\n",
        "print('-'*40)\n",
        "print('-'*15,'CARDAPIO','-'*15)\n",
        "print('-'*40)\n",
        "\n",
        "for k, v in cardapio.items():\n",
        "  print(f'{k:.<32} R$ {v:5.2f}')\n",
        "\n",
        "# 2. Perguntando quantos itens ele quer de cada.\n",
        "qtd = {}\n",
        "for k in cardapio.keys():\n",
        "  qtd[k] = int(input(f'Quantos {k} você quer? '))\n",
        "print('-'*40)\n",
        "\n",
        "# 3. Calculando o valor total:\n",
        "soma = 0\n",
        "\n",
        "for v1, v2 in zip(cardapio.values(), qtd.values()):\n",
        "  soma += v1 * v2\n",
        "\n",
        "# Imprimindo recibo:\n",
        "print('_'*40)\n",
        "print('_'*16,'RECIBO','_'*16)\n",
        "for k, v in qtd.items():\n",
        "  print(f'{v} {k:.<20} = R$ {v*cardapio[k]:5.2f}')\n",
        "print('_'*40)\n",
        "\n",
        "print(f'O valor da compra é: {soma:.2f}')\n"
      ],
      "execution_count": 53,
      "outputs": [
        {
          "output_type": "stream",
          "name": "stdout",
          "text": [
            "----------------------------------------\n",
            "--------------- CARDAPIO ---------------\n",
            "----------------------------------------\n",
            "lanche.......................... R$ 100.00\n",
            "batata.......................... R$ 50.00\n",
            "refri........................... R$ 30.00\n",
            "Quantos lanche você quer? 3\n",
            "Quantos batata você quer? 6\n",
            "Quantos refri você quer? 9\n",
            "----------------------------------------\n",
            "________________________________________\n",
            "________________ RECIBO ________________\n",
            "3 lanche.............. = R$ 300.00\n",
            "6 batata.............. = R$ 300.00\n",
            "9 refri............... = R$ 270.00\n",
            "________________________________________\n",
            "O valor da compra é: 870.00\n"
          ]
        }
      ]
    },
    {
      "cell_type": "markdown",
      "metadata": {
        "id": "0xidZSTxJB0G"
      },
      "source": [
        "## Dicionários dentro de listas\n",
        "\n",
        "Se os dicionários são como se fossem colunas de uma tabela, as listas são como as suas linhas, formando uma tabela completa."
      ]
    },
    {
      "cell_type": "markdown",
      "metadata": {
        "id": "Q8f8wJaWJlRX"
      },
      "source": [
        "<h2> Estrutura </h2>\n",
        "\n",
        "Imaginando uma tabela, temos:\n",
        "\n",
        "```\n",
        "  linhas    'key1':  'key2':  'key3':\n",
        "    [0]     valor11  valor12  valor13\n",
        "    [1]     valor21  valor22  valor23\n",
        "    [2]     valor31  valor32  valor33        \n",
        "\n",
        "```\n",
        "\n",
        "Imaginando que cada linha é uma lista, temos:\n",
        "\n",
        "```\n",
        "lista1 = [value11 , value12 , value13],\n",
        "lista2 = [value21 , value22 , value23],\n",
        "lista3 = [value31 , value32 , value33]\n",
        "```\n",
        "\n",
        "Colocando cada valor e sua respectiva chave dentro dos dicionários, temos:\n",
        "\n",
        "```\n",
        "lista[0] = {'key1': value11, 'key2': value21, 'key3': value31},\n",
        "lista[1] = {'key1': value21, 'key2': value22, 'key3': value32},\n",
        "lista[2] = {'key1': value31, 'key2': value23, 'key3': value33}\n",
        "```\n",
        "\n",
        "Agrupando tudo isso, temos:\n",
        "\n",
        "```\n",
        "lista = [\n",
        "        {'key1': value11, 'key2': value21, 'key3': value31},\n",
        "        {'key1': value21, 'key2': value22, 'key3': value32},\n",
        "        {'key1': value31, 'key2': value23, 'key3': value33}\n",
        "]\n",
        "```\n",
        "\n",
        "<h2> Exemplo 12 </h2>\n",
        "Dada a lista de dicionários abaixo, faça:\n",
        "\n",
        "```\n",
        "pessoas = [\n",
        "          {'nome':'Everton' , 'idade':29 , 'cidade':'São José'},\n",
        "          {'nome':'Thiago' , 'idade':34 , 'cidade':'São Paulo'},\n",
        "          {'nome':'André' , 'idade':22 , 'cidade':'Lorena'}\n",
        "]\n",
        "```\n",
        "\n",
        "1. Imprima cada posição da lista (sem usar for)\n",
        "2. Imprima: o nome da pessoa 1, a idade da pessoa 2, e a cidade da pessoa 3"
      ]
    },
    {
      "cell_type": "code",
      "metadata": {
        "colab": {
          "base_uri": "https://localhost:8080/"
        },
        "id": "4RlGflrvDR72",
        "outputId": "e3484ab7-cae7-48e6-ce47-dedf42ebc10b"
      },
      "source": [
        "# Copiando a lista de dicionários:\n",
        "pessoas = [\n",
        "          {'nome':'Everton' , 'idade':29 , 'cidade':'São José'},\n",
        "          {'nome':'Thiago' , 'idade':34 , 'cidade':'São Paulo'},\n",
        "          {'nome':'André' , 'idade':22 , 'cidade':'Lorena'}\n",
        "]\n",
        "# Imprimindo cada lista:\n",
        "print(pessoas[-1])\n",
        "\n",
        "# Imprimindo o nome da pessoa 1:\n",
        "print(pessoas[0]['nome'])\n",
        "\n",
        "# Imprimindo o idade da pessoa 2:\n",
        "print(pessoas[1]['idade'])\n",
        "\n",
        "# Imprimindo o cidade da pessoa 3:\n",
        "print(pessoas[2]['cidade'])\n"
      ],
      "execution_count": 60,
      "outputs": [
        {
          "output_type": "stream",
          "name": "stdout",
          "text": [
            "{'nome': 'André', 'idade': 22, 'cidade': 'Lorena'}\n",
            "Everton\n",
            "34\n",
            "Lorena\n"
          ]
        }
      ]
    },
    {
      "cell_type": "markdown",
      "metadata": {
        "id": "N-oL9_92OEKo"
      },
      "source": [
        "### For dentro de For\n",
        "\n",
        "Quando temos listas ou dicionários aninhados, é comum precisarmos rodar for dentro de for para pegar os valores que precisamos, sendo que vai ser: 1 for para cada nível de aninhamento"
      ]
    },
    {
      "cell_type": "markdown",
      "metadata": {
        "id": "b-gn1tryOVY_"
      },
      "source": [
        "<h2> Estrutura </h2>\n",
        "\n",
        "```\n",
        "for l in listas:\n",
        "  print(l)\n",
        "  for k, v in l.items(): \n",
        "    print(k, v)\n",
        "```\n",
        "\n",
        "Lê-se: <br>\n",
        "\"*Para cada lista (dentro de listas) imprima lista*\" <br>       \"*Para cada item da lista selecionada imprima chave e valor*\"\n",
        "\n",
        "<h2> Exemplo 13 </h2>\n",
        "\n",
        "Dada a lista: `pessoas` execute a estrutura acima."
      ]
    },
    {
      "cell_type": "code",
      "metadata": {
        "colab": {
          "base_uri": "https://localhost:8080/"
        },
        "id": "zQ9eR-sUPrNh",
        "outputId": "9bcd7ef2-07b4-4167-be27-0e59c75d071c"
      },
      "source": [
        "# montando for:\n",
        "for p in pessoas:\n",
        "  print(p)\n",
        "  for k, v in p.items():\n",
        "    print(f'{k}: {v}')\n",
        "\n"
      ],
      "execution_count": 66,
      "outputs": [
        {
          "output_type": "stream",
          "name": "stdout",
          "text": [
            "{'nome': 'Everton', 'idade': 29, 'cidade': 'São José'}\n",
            "nome: Everton\n",
            "idade: 29\n",
            "cidade: São José\n",
            "{'nome': 'Thiago', 'idade': 34, 'cidade': 'São Paulo'}\n",
            "nome: Thiago\n",
            "idade: 34\n",
            "cidade: São Paulo\n",
            "{'nome': 'André', 'idade': 22, 'cidade': 'Lorena'}\n",
            "nome: André\n",
            "idade: 22\n",
            "cidade: Lorena\n"
          ]
        }
      ]
    },
    {
      "cell_type": "markdown",
      "metadata": {
        "id": "WzBljvCzQvTi"
      },
      "source": [
        "<h2> Exercício 2 </h2>\n",
        "\n",
        "Dada a lista `pessoas`\n",
        "\n",
        "1. Imprima somente os nomes da seguinte forma:\n",
        "\n",
        "O nome da pessoa [1] é : 'valor'\n",
        "\n",
        "2. Imprima as cidades das pessoas que possuem menos de 30 anos:\n",
        "\n",
        "A pessoa [N] tem [idade] anos e o nome dela é [nome] e mora em [cidade]"
      ]
    },
    {
      "cell_type": "code",
      "metadata": {
        "colab": {
          "base_uri": "https://localhost:8080/"
        },
        "id": "r7MS_kOAReSv",
        "outputId": "2c92ef98-5cfd-4559-fc2c-e975b5a5b50f"
      },
      "source": [
        "# Imprimir somente os nomes:\n",
        "for i, p in enumerate(pessoas):\n",
        "  print(f\"{i+1}: {p['nome']}\")\n",
        "print('_'*30)\n",
        "\n",
        "# Imprimir os dados de pessoas com menos de 30 anos:\n",
        "for i, p in enumerate(pessoas):\n",
        "  for k, v in p.items():\n",
        "    if k == 'idade' and v < 30:\n",
        "      print(f\"A pessoa {i+1} tem {p['idade']} anos e o nome dela é {p['nome']} e mora em {p['cidade']}\")\n"
      ],
      "execution_count": 78,
      "outputs": [
        {
          "output_type": "stream",
          "name": "stdout",
          "text": [
            "1: Everton\n",
            "2: Thiago\n",
            "3: André\n",
            "______________________________\n",
            "A pessoa 1 tem 29 anos e o nome dela é Everton e mora em São José\n",
            "A pessoa 3 tem 22 anos e o nome dela é André e mora em Lorena\n"
          ]
        }
      ]
    },
    {
      "cell_type": "markdown",
      "metadata": {
        "id": "a7QwRjiwff4Y"
      },
      "source": [
        "#### Copiando dicionários para listas\n",
        "\n",
        "Quando queremos inserir um dicionário dentro de uma lista, não podemos usar o método do fatiamento para fazer a cópia da lista temporária, então faremos:\n",
        "\n",
        "```\n",
        "lista.append(dicionario.copy())\n",
        "```\n",
        "\n",
        "<h2> Estrutura </h2>\n",
        "\n",
        "```\n",
        "dicio = {}\n",
        "lista = []\n",
        "for d in range(ini, fim):\n",
        "  dicio.['Key1'] = input('Valor1 = ')\n",
        "  dicio.['Key2'] = input('Valor2 = ')\n",
        "  lista.append(dicio.copy())\n",
        "```\n",
        "Assim como nas listas, colocamos os valores inputados pelo usuário num dicionário temporário e a seguir o copiamos para lista.\n",
        "\n",
        "* Não podemos usar: `lista.append(dicio)` pois assim iríamos clonar a lista\n",
        "\n",
        "* Não podemos usar: `lista.append(dicio[:])` pois os dicionários não aceitam append.\n",
        "\n",
        "<h2> Exemplo 14 </h2>\n",
        "\n",
        "Faça um sistema que pergunte e salve numas lista de dicionários o nome e idade de pessoas. Pergunte pro usuário quando ele quer parar (s/n)\n"
      ]
    },
    {
      "cell_type": "code",
      "metadata": {
        "colab": {
          "base_uri": "https://localhost:8080/"
        },
        "id": "GDAsxOKMgj33",
        "outputId": "c337555e-bb9c-4072-dd60-d276dc8db6a0"
      },
      "source": [
        "# Declarando lista e dicio vazios\n",
        "temp = {}\n",
        "pessoas = []\n",
        "\n",
        "while True:\n",
        "  temp['nome'] = str(input('nome: '))\n",
        "  temp['idade'] = int(input('idade: '))\n",
        "  controle = str(input('continua? (s/n) '))\n",
        "  pessoas.append(temp.copy())\n",
        "  if controle == 'n':\n",
        "    break\n",
        "print(pessoas)\n"
      ],
      "execution_count": 94,
      "outputs": [
        {
          "output_type": "stream",
          "name": "stdout",
          "text": [
            "nome: a\n",
            "idade: 1\n",
            "continua? (s/n) n\n",
            "[{'nome': 'a', 'idade': 1}]\n"
          ]
        }
      ]
    },
    {
      "cell_type": "markdown",
      "metadata": {
        "id": "zw88DxguZJRf"
      },
      "source": [
        "\n",
        "# Exercícios"
      ]
    },
    {
      "cell_type": "markdown",
      "metadata": {
        "id": "s7hg_vdWZLu-"
      },
      "source": [
        "<h2> Exercício 1 </h2>\n",
        "\n",
        "1. Crie uma lista de dicionários contendo as notas de todos os alunos de uma sala (5 alunos). No dicionário é para ter os campos:\n",
        "* nome: \n",
        "* nota1:\n",
        "* nota2:\n",
        "* media:\n",
        "* status:\n",
        "\n",
        "2. Peça para o usuário digitar as notas de cada aluno\n",
        "3. Tire a média das notas e adicione no dicionário\n",
        "4. Se média for maior ou igual a 7, coloque \"aprovado\" no status, caso contrário, coloque \"reprovado\"\n",
        "5. Calcule a média das médias e imprima para o professor."
      ]
    },
    {
      "cell_type": "code",
      "metadata": {
        "id": "uZpksmjoiis7",
        "colab": {
          "base_uri": "https://localhost:8080/"
        },
        "outputId": "11246bdc-8c56-497c-d383-d874fcd5bc03"
      },
      "source": [
        "temp = {}\n",
        "alunos = []\n",
        "n = 2\n",
        "media = 0\n",
        "somaMedias = 0\n",
        "mediaGeral = 0\n",
        "\n",
        "for i in range(n):\n",
        "  nome = str(input('nome: '))\n",
        "  temp['nome'] = nome\n",
        "  nota1 = int(input('P1: '))\n",
        "  temp['nota 1'] = nota1\n",
        "  nota2 = int(input('P2: '))\n",
        "  temp['nota 2'] = nota2\n",
        "  media = (nota1 + nota2)/2\n",
        "  temp['media'] = media\n",
        "  if media > 7:\n",
        "    status = 'Aprovado'\n",
        "  else:\n",
        "    status = 'Reprovado'\n",
        "  temp['status'] = status\n",
        "  alunos.append(temp.copy())\n",
        "  print(f'Média do {nome}: {media}')\n",
        "\n",
        "\n",
        "for a in alunos:\n",
        "  for k, v in a.items():\n",
        "    if k == 'media':\n",
        "      somaMedias += v\n",
        "      mediaGeral = somaMedias/len(alunos)\n",
        "\n",
        "print(f'A média geral da turma é de {mediaGeral}')"
      ],
      "execution_count": 133,
      "outputs": [
        {
          "output_type": "stream",
          "name": "stdout",
          "text": [
            "nome: a\n",
            "P1: 10\n",
            "P2: 5\n",
            "Média do a: 7.5\n",
            "nome: b\n",
            "P1: 9\n",
            "P2: 9\n",
            "Média do b: 9.0\n",
            "A média geral da turma é de 8.25\n"
          ]
        }
      ]
    },
    {
      "cell_type": "markdown",
      "metadata": {
        "id": "a_px7HWnijLf"
      },
      "source": [
        "<h2> Exercício 2 </h2>\n",
        "\n",
        "1. Adapte o sistema anterior para que as notas 1 e 2 estejam dentro de uma lista. Então o dicionário irá conter:\n",
        "* nome: \n",
        "* nota: [nota1 nota2]\n",
        "* media:\n",
        "* status:\n",
        "2. ao 5. faça o mesmo do anterior."
      ]
    },
    {
      "cell_type": "code",
      "metadata": {
        "id": "FB4yuHQvjAZw",
        "colab": {
          "base_uri": "https://localhost:8080/"
        },
        "outputId": "050909b3-22a2-4c38-85b9-091828e6ac7e"
      },
      "source": [
        "temp = {}\n",
        "alunos = []\n",
        "notas = []\n",
        "n = 2\n",
        "media = 0\n",
        "somaMedias = 0\n",
        "mediaGeral = 0\n",
        "notasTotais = 0\n",
        "\n",
        "for i in range(n):\n",
        "  nome = str(input('nome: '))\n",
        "  temp['nome'] = nome\n",
        "  nota1 = int(input('P1: '))\n",
        "  nota2 = int(input('P2: '))\n",
        "  notas.append(nota1)\n",
        "  notas.append(nota2)\n",
        "  media = (nota1 + nota2)/2\n",
        "  temp['media'] = media\n",
        "  if media > 7:\n",
        "    status = 'Aprovado'\n",
        "  else:\n",
        "    status = 'Reprovado'\n",
        "  temp['status'] = status\n",
        "  alunos.append(temp.copy())\n",
        "  print(f'Média do {nome}: {media}')\n",
        "\n",
        "for a in alunos:\n",
        "  for k, v in a.items():\n",
        "    if k == 'media':\n",
        "      somaMedias += v\n",
        "      mediaGeral = somaMedias/len(alunos)\n",
        "\n",
        "print(f'A média geral da turma é de {mediaGeral}')"
      ],
      "execution_count": 141,
      "outputs": [
        {
          "output_type": "stream",
          "name": "stdout",
          "text": [
            "nome: a\n",
            "P1: 8\n",
            "P2: 10\n",
            "Média do a: 9.0\n",
            "nome: b\n",
            "P1: 5\n",
            "P2: 7\n",
            "Média do b: 6.0\n",
            "A média geral da turma é de 7.5\n"
          ]
        }
      ]
    },
    {
      "cell_type": "markdown",
      "metadata": {
        "id": "hgElesKdjFJg"
      },
      "source": [
        "<h2> Exercício 3 </h2>\n",
        "\n",
        "Dada os dois dicionários abaixo, calcule a média de preços:\n",
        "\n",
        "```\n",
        "produtos = [ {\n",
        "          'produto': 'maça',\n",
        "          'preco': 2.2\n",
        "          },\n",
        "         {\n",
        "          'produto': 'banana',\n",
        "          'preco': 1.2\n",
        "          } ]\n",
        "everton = {\n",
        "        'cliente': 'Everton'\n",
        "        'compra': [ {\n",
        "                      'produto': 'maça',\n",
        "                      'qtd' = 3\n",
        "                     },\n",
        "                    {\n",
        "                      'produto': 'banana',\n",
        "                      'qtd' = 10\n",
        "                     } ]\n",
        "}\n",
        "```\n",
        "1. Calcule o valor total da compra do Everton\n",
        "2. Imprima a qtd que ele comprou e o que ele comprou\n",
        "3. Imprima o valor total das compras"
      ]
    },
    {
      "cell_type": "code",
      "metadata": {
        "id": "ac5volhm-fI8"
      },
      "source": [
        "produtos = [ {\n",
        "          'produto': 'maça',\n",
        "          'preco': 2.2\n",
        "          },\n",
        "         {\n",
        "          'produto': 'banana',\n",
        "          'preco': 1.2\n",
        "          } ]\n",
        "everton = {\n",
        "        'cliente': 'Everton',\n",
        "        'compra' : [ {\n",
        "                      'produto': 'maça',\n",
        "                      'qtd' : 3\n",
        "                     },\n",
        "                    {\n",
        "                      'produto': 'banana',\n",
        "                      'qtd' : 10\n",
        "                     } ] \n",
        "           }"
      ],
      "execution_count": 152,
      "outputs": []
    },
    {
      "cell_type": "code",
      "metadata": {
        "colab": {
          "base_uri": "https://localhost:8080/"
        },
        "id": "znQ15eL8-har",
        "outputId": "19b127b2-07cc-4786-e1a1-31bb6ef99d11"
      },
      "source": [
        "somaPreco = 0\n",
        "i = 0\n",
        "\n",
        "for p in produtos:\n",
        "  somaPreco += p['preco']\n",
        "  i += 1\n",
        "\n",
        "print(f'A média de preços é: {somaPreco/i:.2f}')"
      ],
      "execution_count": 158,
      "outputs": [
        {
          "output_type": "stream",
          "name": "stdout",
          "text": [
            "A média de preços é: 1.70\n"
          ]
        }
      ]
    },
    {
      "cell_type": "code",
      "metadata": {
        "colab": {
          "base_uri": "https://localhost:8080/"
        },
        "id": "w0d1H9O4_wqi",
        "outputId": "50cc499f-7006-46b5-cf70-5cba6c101be6"
      },
      "source": [
        "valor = 0\n",
        "somaValores = 0\n",
        "\n",
        "for k,v in everton.items():\n",
        "  if k == 'compra':\n",
        "    for c in v:\n",
        "      for k,v in c.items():\n",
        "        if k == 'qtd':\n",
        "        # print(c['qtd'])\n",
        "        # print(p['preco'])        \n",
        "          valor = c['qtd'] * p['preco']\n",
        "          somaValores += valor\n",
        "\n",
        "print('_'*41)\n",
        "print('_'*12, 'ITENS COMPRADOS','_'*12)\n",
        "escrito1 =  'QTD'\n",
        "escrito2 =  'ITEM'\n",
        "print(f'{escrito2:38}{escrito1}')\n",
        "for k,v in everton.items():\n",
        "  if k == 'compra':\n",
        "    for c in v: \n",
        "      produto = c['produto']\n",
        "      qtd = c['qtd']\n",
        "      print(f'{produto:39}{qtd:2}')\n",
        "\n",
        "print('_'*41)\n",
        "print('_'*12, 'VALOR DA COMPRA','_'*12)\n",
        "print(f'                R$ {somaValores:.2f}')\n"
      ],
      "execution_count": 221,
      "outputs": [
        {
          "output_type": "stream",
          "name": "stdout",
          "text": [
            "_________________________________________\n",
            "____________ ITENS COMPRADOS ____________\n",
            "ITEM                                  QTD\n",
            "maça                                    3\n",
            "banana                                 10\n",
            "_________________________________________\n",
            "____________ VALOR DA COMPRA ____________\n",
            "                R$ 15.60\n"
          ]
        }
      ]
    },
    {
      "cell_type": "code",
      "metadata": {
        "id": "5VN2mnAnC27V"
      },
      "source": [
        ""
      ],
      "execution_count": null,
      "outputs": []
    }
  ]
}