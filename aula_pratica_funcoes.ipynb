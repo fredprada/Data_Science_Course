{
  "nbformat": 4,
  "nbformat_minor": 0,
  "metadata": {
    "colab": {
      "name": "aula_pratica_funcoes",
      "provenance": [],
      "collapsed_sections": [],
      "include_colab_link": true
    },
    "kernelspec": {
      "name": "python3",
      "display_name": "Python 3"
    },
    "language_info": {
      "name": "python"
    }
  },
  "cells": [
    {
      "cell_type": "markdown",
      "metadata": {
        "id": "view-in-github",
        "colab_type": "text"
      },
      "source": [
        "<a href=\"https://colab.research.google.com/github/fredprada/Dex_Course_FredericoPrada/blob/main/aula_pratica_funcoes.ipynb\" target=\"_parent\"><img src=\"https://colab.research.google.com/assets/colab-badge.svg\" alt=\"Open In Colab\"/></a>"
      ]
    },
    {
      "cell_type": "markdown",
      "metadata": {
        "id": "99zA4INuNrJx"
      },
      "source": [
        "# Funções\n",
        "As funções são rotinas que são executadas várias vezes nos programas."
      ]
    },
    {
      "cell_type": "markdown",
      "metadata": {
        "id": "UpEKpe82x_XA"
      },
      "source": [
        "As funções no Python e em qualquer linguagem de programação estão sendo usadas desde que você começou a programar. Muito provavelmente a primeira função que você aprendeu a usar foi a: `print()`.\n",
        "\n",
        "É claro que você já percebeu o tanto que essa função é utilizada e também muitas outras. Mas conforme a gente vai codando mais e mais, e resolvendo problemas de negócios com programação a gente percebe que está executando rotinas iguais várias vezes e em vários programas.\n",
        "\n",
        "As funções vieram para dar a possibilidade para o programador criar suas próprias rotinas e assim deixar os seus códigos mais organizados, rápidos, eficientes e ainda de quebra economizar muito tempo programando."
      ]
    },
    {
      "cell_type": "markdown",
      "metadata": {
        "id": "4qQKWn1WzHBw"
      },
      "source": [
        "## Criando Funções\n",
        "\n",
        "```\n",
        "def funcao():\n",
        "  print('Função')\n",
        "\n",
        "funcao()\n",
        "```"
      ]
    },
    {
      "cell_type": "markdown",
      "metadata": {
        "id": "Ngkezy3izOAn"
      },
      "source": [
        "Para criar uma função, basta utilizar a palavra reservada `def` para começar a sua função.\n",
        "\n",
        "Todas as funções devem vir no começo do programa (antes do programa principal) - ou em arquivo separado para ser importado. #spoiler (bibliotecas).\n",
        "\n",
        "O que pode ser feito dentro de uma subrotina pode ser tão simples quanto uma operação de soma, até complexo a nível de um algorítmo de Machine Learning.\n",
        "\n",
        "O mais importante é sempre pensar: \"eu gasto muito tempo fazendo a mesma coisa repetidas vezes?\" Se sim, então crie uma subrotina, crie uma função!!!\n",
        "\n",
        "<h2> Estrutura da função </h2> \n",
        "\n",
        "```\n",
        "# Função\n",
        "def funcao(parametro):     -> declaração da funcao\n",
        "  print('Função')          -> inicio da função\n",
        "\n",
        "                           -> fim da função\n",
        "# Programa Principal\n",
        "...\n",
        "funcao(parametro)                   -> chamada da função\n",
        "```\n",
        "> `parametro` são as variáveis, estruturas e instâncias que a função irá receber para ser executada.\n",
        "\n",
        "<h2> Função sem parâmetro de entrada </h2>\n",
        "\n",
        "Faça uma função que imprima algo:"
      ]
    },
    {
      "cell_type": "code",
      "metadata": {
        "colab": {
          "base_uri": "https://localhost:8080/"
        },
        "id": "uXiIHlhP07HH",
        "outputId": "9492b791-11b5-4f8b-e19e-8a0bd8c75ff2"
      },
      "source": [
        "#Função de imprimir\n",
        "def ola():\n",
        "  print('Ola mundo')\n",
        "  print('---------')\n",
        "\n",
        "\n",
        "#Programa principal\n",
        "print('ação 1')\n",
        "print('pegar dados')\n",
        "ola()"
      ],
      "execution_count": 2,
      "outputs": [
        {
          "output_type": "stream",
          "name": "stdout",
          "text": [
            "ação 1\n",
            "pegar dados\n",
            "Ola mundo\n",
            "---------\n"
          ]
        }
      ]
    },
    {
      "cell_type": "markdown",
      "metadata": {
        "id": "t-Gifqe1z-mU"
      },
      "source": [
        "A partir do momento que a função está declarada e rodando, o nome da função passa a ser uma nova função que você pode executar a qualquer momento.\n",
        "\n",
        "<h2> Exercício 1 </h2>\n",
        "Faça um programa que imprima:\n",
        "\n",
        "```\n",
        "---------------------------------\n",
        "----------- Bem Vindo -----------\n",
        "---------------------------------\n",
        "```"
      ]
    },
    {
      "cell_type": "code",
      "metadata": {
        "colab": {
          "base_uri": "https://localhost:8080/"
        },
        "id": "J7Hts9uy1ndh",
        "outputId": "3d5d0fdd-6ff5-4c19-8cfe-3223dc861214"
      },
      "source": [
        "# Função Bem-vindo\n",
        "def bemVindo():\n",
        "  print('--------------------------')\n",
        "  print('--------bem vindo---------')\n",
        "  print('--------------------------')\n",
        "\n",
        "\n",
        "# Principal\n",
        "bemVindo()"
      ],
      "execution_count": 4,
      "outputs": [
        {
          "output_type": "stream",
          "name": "stdout",
          "text": [
            "--------------------------\n",
            "--------bem vindo---------\n",
            "--------------------------\n"
          ]
        }
      ]
    },
    {
      "cell_type": "markdown",
      "metadata": {
        "id": "ewkFuJXj2Col"
      },
      "source": [
        "<h2> Função com parâmetro de entrada </h2>\n",
        "\n",
        "```\n",
        "# Função\n",
        "def funcao(parametro):     -> declaração da funcao\n",
        "  parametro                -> inicio da função\n",
        "\n",
        "                           -> fim da função\n",
        "# Programa Principal\n",
        "...\n",
        "funcao(parametro)          -> chamada da função\n",
        "```\n",
        "\n",
        "Para este exemplo, o parâmetro deve ser dado pelo na chamada da função no programa principal. Este parâmetro deve ser usado de alguma maneira na Função para atender ao seu propósito.\n",
        "\n",
        "<h3> Exemplo 1 </h3>\n",
        "\n",
        "Faça um programa que o usuário escreva a frase e o programa imprime:\n",
        "```\n",
        "---------------------------------\n",
        "----------- Bem Vindo -----------\n",
        "---------------------------------\n",
        "```"
      ]
    },
    {
      "cell_type": "code",
      "metadata": {
        "colab": {
          "base_uri": "https://localhost:8080/"
        },
        "id": "w8i9RwF524t1",
        "outputId": "a4acbb5a-7345-4a8b-be64-682c6a801dea"
      },
      "source": [
        "# Função de imprimir\n",
        "def txt(frase):\n",
        "  tamanho = len(frase)\n",
        "  print('-'*41)\n",
        "  print('-'*int((39-tamanho)*0.5),frase,'-'*int((39-tamanho)*0.5))\n",
        "  print('-'*41)\n",
        "\n",
        "\n",
        "# Principal\n",
        "frase = str(input('Digite uma frase: '))\n",
        "\n",
        "txt(frase)"
      ],
      "execution_count": 11,
      "outputs": [
        {
          "output_type": "stream",
          "name": "stdout",
          "text": [
            "Digite uma frase: aaaaaaaaaaaaa\n",
            "-----------------------------------------\n",
            "------------- aaaaaaaaaaaaa -------------\n",
            "-----------------------------------------\n"
          ]
        }
      ]
    },
    {
      "cell_type": "markdown",
      "metadata": {
        "id": "sO1DpYFP3ysK"
      },
      "source": [
        "<h2> Exercício 2 </h2>\n",
        "\n",
        "Faça um programa que some 2 números"
      ]
    },
    {
      "cell_type": "code",
      "metadata": {
        "colab": {
          "base_uri": "https://localhost:8080/"
        },
        "id": "T7jLY8bS3yVN",
        "outputId": "2ce30b74-8642-42eb-ff60-adbc1d8207eb"
      },
      "source": [
        "# Função de imprimir\n",
        "def soma(a,b):\n",
        "  s = a + b\n",
        "  print(f'A soma é {s}')\n",
        "\n",
        "\n",
        "# Principal\n",
        "\n",
        "valor1 = 6\n",
        "valor2 = 9\n",
        "\n",
        "soma (valor1, valor2)"
      ],
      "execution_count": 14,
      "outputs": [
        {
          "output_type": "stream",
          "name": "stdout",
          "text": [
            "A soma é 15\n"
          ]
        }
      ]
    },
    {
      "cell_type": "markdown",
      "metadata": {
        "id": "0cHNhUsP4URn"
      },
      "source": [
        "<h2> Funções com parâmetros opcionais </h2>\n",
        "\n",
        "```\n",
        "# Função\n",
        "def funcao(parametro=valor):     -> declaração da funcao\n",
        "  parametro                      -> inicio da função\n",
        "\n",
        "                                 -> fim da função\n",
        "# Programa Principal\n",
        "...\n",
        "funcao(parametro)                -> chamada da função\n",
        "``` \n",
        "\n",
        "Em toda função é possível configurar quais parâmetros precisam de um valor inicial configurado e quais não precisam.\n",
        "\n",
        "<h2> Exemplo 2 </h2>\n",
        "\n",
        "Refaça o programa da soma, mas agora deixe ambas os parâmetros como opcionais."
      ]
    },
    {
      "cell_type": "code",
      "metadata": {
        "colab": {
          "base_uri": "https://localhost:8080/"
        },
        "id": "KyYmQEXC5Jat",
        "outputId": "baeab885-2f5d-4242-f040-a75dea38cc6f"
      },
      "source": [
        "# Função de somar\n",
        "def soma (a,b=5):\n",
        "  s = a + b\n",
        "  print(f'A soma é {s}')\n",
        "\n",
        "\n",
        "# Principal\n",
        "valor1 = 2\n",
        "valor2 = 99\n",
        "\n",
        "soma(valor1)"
      ],
      "execution_count": 17,
      "outputs": [
        {
          "output_type": "stream",
          "name": "stdout",
          "text": [
            "A soma é 7\n"
          ]
        }
      ]
    },
    {
      "cell_type": "markdown",
      "metadata": {
        "id": "Ziig4ypW7-sQ"
      },
      "source": [
        "<h2> Funções com retorno </h2>\n",
        "\n",
        "```\n",
        "# Função\n",
        "def funcao(parametro=valor):     -> declaração da funcao\n",
        "  parametro                      -> inicio da função\n",
        "  return var\n",
        "                                 -> fim da função\n",
        "# Programa Principal\n",
        "...\n",
        "funcao(parametro)                -> chamada da função\n",
        "``` \n",
        "\n",
        "Também é possível configurar se algum valor deve voltar para o usuário do programa.\n",
        "\n",
        "<h2> Exemplo 3 </h2>\n",
        "\n",
        "Ainda no programa da soma, volte para o Programa Principal o valor da soma."
      ]
    },
    {
      "cell_type": "code",
      "metadata": {
        "colab": {
          "base_uri": "https://localhost:8080/"
        },
        "id": "QKaEdzth8ZUI",
        "outputId": "293548ee-d719-41dc-e41f-39e0326326ce"
      },
      "source": [
        "# Função de soma\n",
        "def soma(a, b=0):\n",
        "  s = a + b\n",
        "  return s\n",
        "\n",
        "\n",
        "# Principal\n",
        "var = soma(5,2)\n",
        "print(var)"
      ],
      "execution_count": 21,
      "outputs": [
        {
          "output_type": "stream",
          "name": "stdout",
          "text": [
            "7\n"
          ]
        }
      ]
    },
    {
      "cell_type": "markdown",
      "metadata": {
        "id": "xET1W-VY844v"
      },
      "source": [
        "<h2> Funções com quantidade indefinida de parâmetros </h2>\n",
        "\n",
        "```\n",
        "# Função\n",
        "def funcao(*num):     -> declaração da funcao\n",
        "  parametro                      -> inicio da função\n",
        "  return var\n",
        "                                 -> fim da função\n",
        "# Programa Principal\n",
        "...\n",
        "funcao(parametro)                -> chamada da função\n",
        "``` \n",
        "\n",
        "É possível deixar livre a quantidade de variáveis que são inseridas como parâmetro.\n",
        "\n",
        "<h2> Exemplo 4 </h2>\n",
        "\n",
        "Faça um programa da média, que tire a média de uma quantidade indeterminada de números."
      ]
    },
    {
      "cell_type": "code",
      "metadata": {
        "colab": {
          "base_uri": "https://localhost:8080/"
        },
        "id": "1qQkUtg-9Xz3",
        "outputId": "f4fdfe1c-822e-429c-bfe9-758e5185f3b3"
      },
      "source": [
        "# Função de média\n",
        "def media(*num):\n",
        "  soma = 0\n",
        "  qtd = len(num)\n",
        "  for n in num:\n",
        "    soma += n\n",
        "  media = soma/qtd\n",
        "  return media\n",
        "\n",
        "\n",
        "# Principal\n",
        "var = media(1, 3, 5, 7, 9)\n",
        "print(var)"
      ],
      "execution_count": 29,
      "outputs": [
        {
          "output_type": "stream",
          "name": "stdout",
          "text": [
            "5.0\n"
          ]
        }
      ]
    },
    {
      "cell_type": "markdown",
      "metadata": {
        "id": "mxWorzDw-A-c"
      },
      "source": [
        "## Help e Docstring\n",
        "\n",
        "O Python possui um comando de help que nos ajuda a verificar como usar a função corretamente."
      ]
    },
    {
      "cell_type": "markdown",
      "metadata": {
        "id": "VpdSZLQo-KVt"
      },
      "source": [
        "Para usar o `help` pasta usar o comando:\n",
        "\n",
        "```\n",
        "help(funcao)\n",
        "```\n",
        "\n",
        "Aplique o help nas funções:\n",
        "* print()\n",
        "* len()\n",
        "* sorted()"
      ]
    },
    {
      "cell_type": "code",
      "metadata": {
        "colab": {
          "base_uri": "https://localhost:8080/"
        },
        "id": "pcisrRFq-a-T",
        "outputId": "250325d7-f1f2-47df-eabc-099da9736f8c"
      },
      "source": [
        "help(media)"
      ],
      "execution_count": 40,
      "outputs": [
        {
          "output_type": "stream",
          "name": "stdout",
          "text": [
            "Help on function media in module __main__:\n",
            "\n",
            "media(*num)\n",
            "    # Função de média\n",
            "\n"
          ]
        }
      ]
    },
    {
      "cell_type": "markdown",
      "metadata": {
        "id": "EZiJ-iCe-kN0"
      },
      "source": [
        "<h2> Docstring </h2>\n",
        "\n",
        "Como estamos aprendendo a fazer nossas funções, uma coisa que também devemos aprender é como documentar nossas funções para que outros devs também consigam usar. Para isso basta usar o comando `aspas triplas` logo abaixo da declaração da função.\n",
        "\n",
        "    \"\"\"\n",
        "    Breve texto explicativo da função\n",
        "    :param a: o que este parâmetro faz\n",
        "    :param b: o que este parâmetro faz\n",
        "    :return: o que será retornado ao usuário.\n",
        "    \"\"\"\n",
        "\n",
        "Ao se usar o comando help() na sua função, será mostrado o texto acima para o usuário.\n",
        "\n",
        "<h3> Exemplo 5 </h3>\n",
        "\n",
        "Crie o `docstring` da função da média"
      ]
    },
    {
      "cell_type": "code",
      "metadata": {
        "colab": {
          "base_uri": "https://localhost:8080/"
        },
        "id": "qGXfGE4q_m9q",
        "outputId": "91a8efcc-9a07-4513-e94f-187ca41c38ad"
      },
      "source": [
        "# Função de média\n",
        "def media(*num):\n",
        "  \"\"\"\n",
        "  A função de media calcula a media de varios números.\n",
        "  Você deve colocá-los direto.\n",
        "  Função não aceita listas nem dicionários.\n",
        "  num: são os números enviados.\n",
        "  return: media = media dos números\n",
        "  Autor: Frederico\n",
        "  Versão: 1.0\n",
        "  \"\"\"\n",
        "  soma = 0\n",
        "  qtd = len(num)\n",
        "  for n in num:\n",
        "    soma += n\n",
        "  media = soma/qtd\n",
        "  return media\n",
        "\n",
        "# Principal\n",
        "var = media(1, 3, 5, 7, 9)\n",
        "print(var)\n",
        "help(media)"
      ],
      "execution_count": 45,
      "outputs": [
        {
          "output_type": "stream",
          "name": "stdout",
          "text": [
            "5.0\n",
            "Help on function media in module __main__:\n",
            "\n",
            "media(*num)\n",
            "    A função de media calcula a media de varios números.\n",
            "    Você deve colocá-los direto.\n",
            "    Função não aceita listas nem dicionários.\n",
            "    num: são os números enviados.\n",
            "    return: media = media dos números\n",
            "    Autor: Frederico\n",
            "    Versão: 1.0\n",
            "\n"
          ]
        }
      ]
    },
    {
      "cell_type": "markdown",
      "metadata": {
        "id": "TqdO87aZAQbb"
      },
      "source": [
        "## Escopo Local e Global\n",
        "\n",
        "Escopo local é o escopo da função, enquanto o global é do programa inteiro."
      ]
    },
    {
      "cell_type": "markdown",
      "metadata": {
        "id": "s_IacpQuA-40"
      },
      "source": [
        "Ao se fazer uma subrotina ou função - ela é operada num escopo local, ou seja, todas as variáveis utilizadas na subrotina NÃO são enviadas para o programa principal.\n",
        "\n",
        "Já as variáveis declaradas no programa principal - escopo global - podem ser utilizadas nas funções, mas não tem o seu valor atualizado no escopo global, a não ser que use variável global.\n",
        "\n",
        "As variáveis globais são aquelas que podem ser utilizadas tanto no escopo global quanto no local.\n",
        "\n",
        "<h3> Exemplo 6 </h3>\n",
        "\n",
        "Modifique o programa da soma, de modo que você imprima os valores a, b, c e s nos dois escopos."
      ]
    },
    {
      "cell_type": "code",
      "metadata": {
        "colab": {
          "base_uri": "https://localhost:8080/"
        },
        "id": "Iuqux5eCAQKY",
        "outputId": "c062edfd-1f61-4dcc-be19-17de72fa245e"
      },
      "source": [
        "# Função de somar\n",
        "def soma (a, b=0):\n",
        "  s = a + b\n",
        "  a = 8\n",
        "  print(a, b, c, s)\n",
        "  return s\n",
        "\n",
        "# Principal\n",
        "a = 5\n",
        "b = 2\n",
        "c = 3\n",
        "somado = soma(a,b)\n",
        "print(a, b)\n",
        "# print(s)\n",
        "print(somado)"
      ],
      "execution_count": 47,
      "outputs": [
        {
          "output_type": "stream",
          "name": "stdout",
          "text": [
            "8 2 3 7\n",
            "5 2\n",
            "7\n"
          ]
        }
      ]
    },
    {
      "cell_type": "markdown",
      "metadata": {
        "id": "-D7uYCk6CGks"
      },
      "source": [
        "<h2> Declaração Global de variável </h2>\n",
        "\n",
        "Para contornar o problema acima, é possível declarar algumas variáveis como globais. Assim qualquer modificação que elas sofrerem na subrotina, isso também afetará o programa principal\n",
        "\n",
        "```\n",
        "global var\n",
        "```\n",
        "\n",
        "<h3> Exemplo 7 </h3>\n",
        "\n",
        "Modifique o programa da soma, coloque as variáveis a e s como globais."
      ]
    },
    {
      "cell_type": "code",
      "metadata": {
        "colab": {
          "base_uri": "https://localhost:8080/"
        },
        "id": "FZx2GZusCnnR",
        "outputId": "783181b0-19a6-4372-ec39-0c65a2340a90"
      },
      "source": [
        "# Função de somar\n",
        "def soma (a, b=0):\n",
        "  global c, s\n",
        "  s = a + b\n",
        "  c = 8\n",
        "  print(a, b, c, s)\n",
        "  return s\n",
        "\n",
        "# Principal\n",
        "a = 5\n",
        "b = 2\n",
        "c = 3\n",
        "somado = soma(a,b)\n",
        "print(a, b, c)\n",
        "print(s)\n",
        "print(somado)"
      ],
      "execution_count": 52,
      "outputs": [
        {
          "output_type": "stream",
          "name": "stdout",
          "text": [
            "5 2 8 7\n",
            "5 2 8\n",
            "7\n",
            "7\n"
          ]
        }
      ]
    },
    {
      "cell_type": "markdown",
      "metadata": {
        "id": "zxInU-AhDGLL"
      },
      "source": [
        "## Funções Nativas.\n",
        "\n",
        "O Python possui diversas funções nativas. Quer saber mais sobre elas? Rode o comando:\n",
        "\n",
        "```\n",
        "dir(__builtins__)\n",
        "```"
      ]
    },
    {
      "cell_type": "code",
      "metadata": {
        "id": "5HfV676hDFkA"
      },
      "source": [
        "# dir(__builtins__)"
      ],
      "execution_count": null,
      "outputs": []
    },
    {
      "cell_type": "markdown",
      "metadata": {
        "id": "UwuvrRTBDXkl"
      },
      "source": [
        "# Exercícios"
      ]
    },
    {
      "cell_type": "markdown",
      "metadata": {
        "id": "9D9KClm_DaOg"
      },
      "source": [
        "<h2> Exercício 1 </h2>\n",
        "\n",
        "Faça uma função que calcule fatorial de um número\n"
      ]
    },
    {
      "cell_type": "code",
      "metadata": {
        "id": "txGKjAQBDkRP"
      },
      "source": [
        "def fatorial(n):\n",
        "  \"\"\"\n",
        "  O fatorial calcula a multiplicação entre todos os números inteiros anteriores ao número inserido.\n",
        "  Um exemplo é o fatorial de 5, onde é feita a multiplicação 5*4*3*2*1 = 120\n",
        "  Caso o número inserido seja um float, ele será transformado em um inteiro para a realização do cálculo.\n",
        "  n: número de entrada\n",
        "  return: fat = é o resultado do fatorial\n",
        "  Autor: Frederico Prada\n",
        "  Versão: 1.0\n",
        "  \"\"\"\n",
        "  n = int(n)\n",
        "  fat = 0\n",
        "  seguinte = 1\n",
        "  for i in range(1, n+1):\n",
        "    fat = i*seguinte\n",
        "    seguinte = fat\n",
        "  return fat"
      ],
      "execution_count": 108,
      "outputs": []
    },
    {
      "cell_type": "code",
      "metadata": {
        "colab": {
          "base_uri": "https://localhost:8080/"
        },
        "id": "eDTqdhXLpj0Y",
        "outputId": "4bc6ba40-9fcb-454b-edab-68527a589406"
      },
      "source": [
        "fatorial(5)"
      ],
      "execution_count": 121,
      "outputs": [
        {
          "output_type": "execute_result",
          "data": {
            "text/plain": [
              "120"
            ]
          },
          "metadata": {},
          "execution_count": 121
        }
      ]
    },
    {
      "cell_type": "markdown",
      "metadata": {
        "id": "p1OCO_O2DkqI"
      },
      "source": [
        "<h2> Exercício 2 </h2>\n",
        "\n",
        "Faça uma função que verifica se o número é par. O retorno deve ser um booleano"
      ]
    },
    {
      "cell_type": "code",
      "metadata": {
        "id": "LwEPtap6Dtka"
      },
      "source": [
        "def par(n):\n",
        "  \"\"\"\n",
        "  A função par verifica se um número é par.\n",
        "  Ela faz esse cálculo verificando o resto da divisão de n (variável inserida) por 2.\n",
        "  Caso o resto seja zero, o número é par.\n",
        "  n: número inserido.\n",
        "  ehpar: cálculo se é par ou não.\n",
        "  return: Boolean: True=par e False=ímpar\n",
        "  \"\"\"\n",
        "  ehpar = n % 2\n",
        "  if ehpar == 0:\n",
        "    return True\n",
        "  else:\n",
        "    return False"
      ],
      "execution_count": 126,
      "outputs": []
    },
    {
      "cell_type": "code",
      "metadata": {
        "colab": {
          "base_uri": "https://localhost:8080/"
        },
        "id": "VnglcpWfs4AG",
        "outputId": "6847e13a-477f-4718-844a-bf17a1617358"
      },
      "source": [
        "par(12)"
      ],
      "execution_count": 127,
      "outputs": [
        {
          "output_type": "execute_result",
          "data": {
            "text/plain": [
              "True"
            ]
          },
          "metadata": {},
          "execution_count": 127
        }
      ]
    },
    {
      "cell_type": "markdown",
      "metadata": {
        "id": "WqdNa-MXEQGk"
      },
      "source": [
        "<h2> Exercício 3 </h2>\n",
        "\n",
        "Faça uma função que peça um input para o usuário, valide o tipo do input e retorne o valor já transformado\n"
      ]
    },
    {
      "cell_type": "code",
      "metadata": {
        "id": "5MFiQBqSEPwL"
      },
      "source": [
        "def transform(n):\n",
        "  \"\"\"\n",
        "  Esta função faz a conversão do dado inserido (que entra como str) no referido tipo.\n",
        "  Como tipos temos:\n",
        "  .isnumeric()\n",
        "  .isalpha()\n",
        "  .isalnum()\n",
        "  n: valor inserido.\n",
        "  return: n = valor inserido já convertido.\n",
        "  Autor: Frederico\n",
        "  Versão: 1.0\n",
        "  \"\"\"\n",
        "  if n.isalpha() == True:\n",
        "    n = str(n)\n",
        "  elif n.isnumeric() == True:\n",
        "    n = float(n)\n",
        "  else:\n",
        "    n = str(n)\n",
        "  return n"
      ],
      "execution_count": 206,
      "outputs": []
    },
    {
      "cell_type": "code",
      "metadata": {
        "colab": {
          "base_uri": "https://localhost:8080/"
        },
        "id": "cRoaLB2MtlMZ",
        "outputId": "befc03cc-bd4e-45f2-8e66-e20e52cc47ce"
      },
      "source": [
        "n = input('Digite alguma coisa: ')\n",
        "transform(n)\n",
        "print(f'o tipo é: {type(transform(n))}')"
      ],
      "execution_count": 207,
      "outputs": [
        {
          "output_type": "stream",
          "name": "stdout",
          "text": [
            "Digite alguma coisa: 123\n",
            "o tipo é: <class 'float'>\n"
          ]
        }
      ]
    },
    {
      "cell_type": "markdown",
      "metadata": {
        "id": "t6QuWfINEiNK"
      },
      "source": [
        "<h2> Exercício 4 </h2>\n",
        "\n",
        "Faça uma função que dada um lista de números, ela retorne:\n",
        "* A média dos números\n",
        "* A soma dos números\n",
        "* O menor valor\n",
        "* O maior valor"
      ]
    },
    {
      "cell_type": "code",
      "metadata": {
        "id": "LprElcs7EuSs"
      },
      "source": [
        "def contas(lista):\n",
        "  soma = 0\n",
        "  media = 0\n",
        "  for i in lista:\n",
        "    soma += i\n",
        "  media = soma/(len(lista))\n",
        "  print(f'a soma da lista é {soma}')\n",
        "  print(f'a media da lista é {media}')"
      ],
      "execution_count": 222,
      "outputs": []
    },
    {
      "cell_type": "code",
      "metadata": {
        "colab": {
          "base_uri": "https://localhost:8080/"
        },
        "id": "sTcPKMzWx89Y",
        "outputId": "0980c32e-6a3f-4116-bcf2-8ef4f2d28c48"
      },
      "source": [
        "import random\n",
        "lista = []\n",
        "for i in range(random.randint(0,10)):\n",
        "  n = random.randrange(100)\n",
        "  lista.append(n)\n",
        "\n",
        "print(f'a sua lista é {lista}')\n",
        "print()\n",
        "contas(lista)"
      ],
      "execution_count": 229,
      "outputs": [
        {
          "output_type": "stream",
          "name": "stdout",
          "text": [
            "a sua lista é [42, 11]\n",
            "\n",
            "a soma da lista é 53\n",
            "a media da lista é 26.5\n"
          ]
        }
      ]
    },
    {
      "cell_type": "code",
      "metadata": {
        "id": "bdF2nJjE2YCz"
      },
      "source": [
        ""
      ],
      "execution_count": null,
      "outputs": []
    }
  ]
}