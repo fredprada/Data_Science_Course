{
  "nbformat": 4,
  "nbformat_minor": 0,
  "metadata": {
    "colab": {
      "name": "case2_python.ipynb",
      "provenance": [],
      "collapsed_sections": [],
      "authorship_tag": "ABX9TyOwmB9AT1E3xNnlwRbooMAX",
      "include_colab_link": true
    },
    "kernelspec": {
      "name": "python3",
      "display_name": "Python 3"
    },
    "language_info": {
      "name": "python"
    }
  },
  "cells": [
    {
      "cell_type": "markdown",
      "metadata": {
        "id": "view-in-github",
        "colab_type": "text"
      },
      "source": [
        "<a href=\"https://colab.research.google.com/github/fredprada/Data_Science_Course_FredericoPrada/blob/main/case2_python.ipynb\" target=\"_parent\"><img src=\"https://colab.research.google.com/assets/colab-badge.svg\" alt=\"Open In Colab\"/></a>"
      ]
    },
    {
      "cell_type": "markdown",
      "metadata": {
        "id": "OxA_6kdHGk4g"
      },
      "source": [
        "Você recebeu um arquivo chamado usuarios_feedback, nesse arquivo contém o comentário, nome, gênero e nota de usuários referente a um produto de sua empresas. Você precisa verificar quais as palavras que mais apareceram nos comentários:\n",
        "\n",
        "usuarios_feedback = [{'nome':'Peter','nota':9,'genero':'M','comentario':'bom demais e agil'},\n",
        "{'nome':'Joao','nota':10,'genero':'M','comentario':'agil e eficiente'},\n",
        "{'nome':'user_not_found','nota':0,'genero':'M','comentario':'Horrível'},\n",
        "{'nome':'Marta','nota':10,'genero':'F','comentario':'muito agil bom demais'},\n",
        "{'nome':'Beatriz','nota':10,'genero':'F','comentario':'rápido e eficaz'},\n",
        "{'nome':'user_not_found','nota':2,'genero':'M','comentario':'ruim'},\n",
        "{'nome':'Jéssica','nota':10,'genero':'F','comentario':'agil'},\n",
        "{'nome':'José','nota':7,'genero':'M','comentario':'ok'},\n",
        "{'nome':'Elias','nota':5,'genero':'M','comentario':'precisa melhorar'},\n",
        "{'nome':'Miriã','nota':9,'genero':'F','comentario':'foi muito agil e rápido'},\n",
        "{'nome':'Maria','nota':10,'genero':'F','comentario':'muito bom e agil'}]"
      ]
    },
    {
      "cell_type": "code",
      "metadata": {
        "id": "oNZ_HF6PGX5h"
      },
      "source": [
        "usuarios_feedback = [{'nome':'Peter','nota':9,'genero':'M','comentario':'bom demais e agil'},\n",
        "{'nome':'Joao','nota':10,'genero':'M','comentario':'agil e eficiente'},\n",
        "{'nome':'user_not_found','nota':0,'genero':'M','comentario':'Horrível'},\n",
        "{'nome':'Marta','nota':10,'genero':'F','comentario':'muito agil bom demais'},\n",
        "{'nome':'Beatriz','nota':10,'genero':'F','comentario':'rápido e eficaz'},\n",
        "{'nome':'user_not_found','nota':2,'genero':'M','comentario':'ruim'},\n",
        "{'nome':'Jéssica','nota':10,'genero':'F','comentario':'agil'},\n",
        "{'nome':'José','nota':7,'genero':'M','comentario':'ok'},\n",
        "{'nome':'Elias','nota':5,'genero':'M','comentario':'precisa melhorar'},\n",
        "{'nome':'Miriã','nota':9,'genero':'F','comentario':'foi muito agil e rápido'},\n",
        "{'nome':'Maria','nota':10,'genero':'F','comentario':'muito bom e agil'}]"
      ],
      "execution_count": 1,
      "outputs": []
    },
    {
      "cell_type": "code",
      "metadata": {
        "colab": {
          "base_uri": "https://localhost:8080/"
        },
        "id": "ucRmQMrsWiYe",
        "outputId": "2069b3d1-367c-4f2d-dd3d-8b16133fd148"
      },
      "source": [
        "comentarios = []\n",
        "\n",
        "for u in usuarios_feedback:\n",
        "  for k, v in u.items():\n",
        "    if k == 'comentario':\n",
        "      comentarios.append(u['comentario'])\n",
        "\n",
        "palavras = []\n",
        "for i in comentarios:\n",
        "  auxiliar = i.split()\n",
        "  for e in auxiliar:\n",
        "    palavras.append(e)\n",
        "    \n",
        "palavras_unicas = set(palavras)\n",
        "\n",
        "for i in palavras_unicas:\n",
        "  print(i,palavras.count(i))"
      ],
      "execution_count": 60,
      "outputs": [
        {
          "output_type": "stream",
          "name": "stdout",
          "text": [
            "ruim 1\n",
            "Horrível 1\n",
            "foi 1\n",
            "agil 6\n",
            "muito 3\n",
            "rápido 2\n",
            "demais 2\n",
            "bom 3\n",
            "precisa 1\n",
            "e 5\n",
            "ok 1\n",
            "eficaz 1\n",
            "eficiente 1\n",
            "melhorar 1\n"
          ]
        }
      ]
    },
    {
      "cell_type": "markdown",
      "metadata": {
        "id": "wt3P9UeoS9xT"
      },
      "source": [
        "MEDIA DAS NOTAS SEPARADAS POR GÊNERO"
      ]
    },
    {
      "cell_type": "code",
      "metadata": {
        "id": "ZdUijIskS5Nf"
      },
      "source": [
        "usuarios_feedback = [{'nome':'Peter','nota':9,'genero':'M','comentario':'bom demais e agil'},\n",
        "{'nome':'Joao','nota':10,'genero':'M','comentario':'agil e eficiente'},\n",
        "{'nome':'user_not_found','nota':0,'genero':'M','comentario':'Horrível'},\n",
        "{'nome':'Marta','nota':10,'genero':'F','comentario':'muito agil bom demais'},\n",
        "{'nome':'Beatriz','nota':10,'genero':'F','comentario':'rápido e eficaz'},\n",
        "{'nome':'user_not_found','nota':2,'genero':'M','comentario':'ruim'},\n",
        "{'nome':'Jéssica','nota':10,'genero':'F','comentario':'agil'},\n",
        "{'nome':'José','nota':7,'genero':'M','comentario':'ok'},\n",
        "{'nome':'Elias','nota':5,'genero':'M','comentario':'precisa melhorar'},\n",
        "{'nome':'Miriã','nota':9,'genero':'F','comentario':'foi muito agil e rápido'},\n",
        "{'nome':'Maria','nota':10,'genero':'F','comentario':'muito bom e agil'}]"
      ],
      "execution_count": 37,
      "outputs": []
    },
    {
      "cell_type": "code",
      "metadata": {
        "colab": {
          "base_uri": "https://localhost:8080/"
        },
        "id": "KZqzEQDzVRq_",
        "outputId": "92aa7a01-9194-41ee-ba8a-9d90dd364a8a"
      },
      "source": [
        "notas_m = []\n",
        "notas_f = []\n",
        "\n",
        "for u in usuarios_feedback:\n",
        "  for k,v in u.items():\n",
        "    if k == 'genero':\n",
        "      if v == 'M':\n",
        "        notas_m.append(u['nota'])\n",
        "      else:\n",
        "        notas_f.append(u['nota'])\n",
        "\n",
        "medias_m = sum(notas_m)/len(notas_m)\n",
        "medias_f = sum(notas_f)/len(notas_f)\n",
        "\n",
        "print(medias_m)\n",
        "print(medias_f)"
      ],
      "execution_count": 59,
      "outputs": [
        {
          "output_type": "stream",
          "name": "stdout",
          "text": [
            "5.5\n",
            "9.8\n"
          ]
        }
      ]
    },
    {
      "cell_type": "code",
      "metadata": {
        "id": "D8IG6D-AVt5h"
      },
      "source": [
        ""
      ],
      "execution_count": null,
      "outputs": []
    },
    {
      "cell_type": "code",
      "metadata": {
        "id": "cHwXYMghVt2X"
      },
      "source": [
        ""
      ],
      "execution_count": null,
      "outputs": []
    },
    {
      "cell_type": "code",
      "metadata": {
        "id": "frzDr16jVtzl"
      },
      "source": [
        ""
      ],
      "execution_count": null,
      "outputs": []
    },
    {
      "cell_type": "code",
      "metadata": {
        "id": "_5clzRaZVtw1"
      },
      "source": [
        ""
      ],
      "execution_count": null,
      "outputs": []
    },
    {
      "cell_type": "code",
      "metadata": {
        "id": "qXLapSCvVtuf"
      },
      "source": [
        ""
      ],
      "execution_count": null,
      "outputs": []
    },
    {
      "cell_type": "code",
      "metadata": {
        "id": "8IvjC1BbVtrr"
      },
      "source": [
        ""
      ],
      "execution_count": null,
      "outputs": []
    },
    {
      "cell_type": "code",
      "metadata": {
        "id": "w3aumjlkVto8"
      },
      "source": [
        ""
      ],
      "execution_count": null,
      "outputs": []
    },
    {
      "cell_type": "code",
      "metadata": {
        "id": "iuwDLBELS4_4"
      },
      "source": [
        ""
      ],
      "execution_count": null,
      "outputs": []
    },
    {
      "cell_type": "code",
      "metadata": {
        "id": "88xCY6H0S49N"
      },
      "source": [
        ""
      ],
      "execution_count": null,
      "outputs": []
    },
    {
      "cell_type": "code",
      "metadata": {
        "id": "piWOHg4ES46g"
      },
      "source": [
        ""
      ],
      "execution_count": null,
      "outputs": []
    },
    {
      "cell_type": "code",
      "metadata": {
        "id": "1KOgiZAaS43k"
      },
      "source": [
        ""
      ],
      "execution_count": null,
      "outputs": []
    },
    {
      "cell_type": "code",
      "metadata": {
        "id": "jamOHVMuS40_"
      },
      "source": [
        ""
      ],
      "execution_count": null,
      "outputs": []
    }
  ]
}