{
  "nbformat": 4,
  "nbformat_minor": 0,
  "metadata": {
    "colab": {
      "name": "funcoes_lambda.ipynb",
      "provenance": [],
      "collapsed_sections": [],
      "authorship_tag": "ABX9TyODS6qoORRoEHdxzGGhwYD5",
      "include_colab_link": true
    },
    "kernelspec": {
      "name": "python3",
      "display_name": "Python 3"
    },
    "language_info": {
      "name": "python"
    }
  },
  "cells": [
    {
      "cell_type": "markdown",
      "metadata": {
        "id": "view-in-github",
        "colab_type": "text"
      },
      "source": [
        "<a href=\"https://colab.research.google.com/github/fredprada/Data_Science_Course_FredericoPrada/blob/main/funcoes_lambda.ipynb\" target=\"_parent\"><img src=\"https://colab.research.google.com/assets/colab-badge.svg\" alt=\"Open In Colab\"/></a>"
      ]
    },
    {
      "cell_type": "code",
      "metadata": {
        "colab": {
          "base_uri": "https://localhost:8080/"
        },
        "id": "g9gaBYslYOrt",
        "outputId": "de7eecf2-46bc-45b9-e649-4e629ec3d2e7"
      },
      "source": [
        "f1 = lambda x:x+2\n",
        "f2 = lambda x,y:x+y\n",
        "print(f1(10))\n",
        "print(f2(5,2))"
      ],
      "execution_count": 5,
      "outputs": [
        {
          "output_type": "stream",
          "name": "stdout",
          "text": [
            "12\n",
            "7\n"
          ]
        }
      ]
    },
    {
      "cell_type": "code",
      "metadata": {
        "id": "CsvHoMBPY05i"
      },
      "source": [
        "ver_par = lambda x: True if x%2==0 else False"
      ],
      "execution_count": 10,
      "outputs": []
    },
    {
      "cell_type": "code",
      "metadata": {
        "colab": {
          "base_uri": "https://localhost:8080/"
        },
        "id": "PSQvlfUIY02r",
        "outputId": "1a1874fa-be5e-42c9-973c-e5276d7d55b8"
      },
      "source": [
        "ver_par(15)"
      ],
      "execution_count": 11,
      "outputs": [
        {
          "output_type": "execute_result",
          "data": {
            "text/plain": [
              "False"
            ]
          },
          "metadata": {},
          "execution_count": 11
        }
      ]
    },
    {
      "cell_type": "code",
      "metadata": {
        "colab": {
          "base_uri": "https://localhost:8080/"
        },
        "id": "689YT-8PY00B",
        "outputId": "bf481ead-6a2f-48b4-9d36-28b1ad0fabf6"
      },
      "source": [
        "lista = [ 9,678,4,33,45,2345,856]\n",
        "list(map(lambda x: True if x%2==0 else False,lista))"
      ],
      "execution_count": 15,
      "outputs": [
        {
          "output_type": "execute_result",
          "data": {
            "text/plain": [
              "[False, True, True, False, False, False, True]"
            ]
          },
          "metadata": {},
          "execution_count": 15
        }
      ]
    },
    {
      "cell_type": "code",
      "metadata": {
        "colab": {
          "base_uri": "https://localhost:8080/"
        },
        "id": "WvD_2qnEY0xH",
        "outputId": "c441f221-89f2-4499-cace-5a0dcb31f2e6"
      },
      "source": [
        "lista = [ 9,678,4,33,45,2345,856]\n",
        "list(filter(lambda x: True if x%2==0 else False,lista))"
      ],
      "execution_count": 16,
      "outputs": [
        {
          "output_type": "execute_result",
          "data": {
            "text/plain": [
              "[678, 4, 856]"
            ]
          },
          "metadata": {},
          "execution_count": 16
        }
      ]
    },
    {
      "cell_type": "code",
      "metadata": {
        "colab": {
          "base_uri": "https://localhost:8080/"
        },
        "id": "ZDkN5RZCY0uf",
        "outputId": "7ae173f1-4c9e-4c70-d2dd-6a7c3528afc4"
      },
      "source": [
        "list(filter(lambda x: True if x%2==0 else False, range(10)))"
      ],
      "execution_count": 17,
      "outputs": [
        {
          "output_type": "execute_result",
          "data": {
            "text/plain": [
              "[0, 2, 4, 6, 8]"
            ]
          },
          "metadata": {},
          "execution_count": 17
        }
      ]
    },
    {
      "cell_type": "code",
      "metadata": {
        "id": "3g1l4u2nY0r2"
      },
      "source": [
        "from functools import reduce"
      ],
      "execution_count": 18,
      "outputs": []
    },
    {
      "cell_type": "code",
      "metadata": {
        "colab": {
          "base_uri": "https://localhost:8080/"
        },
        "id": "ghOYeadoY0pC",
        "outputId": "4e4945bf-f2c5-4b4b-cd68-60e59c44e2d9"
      },
      "source": [
        "reduce(lambda x,y:x+y,range(10))"
      ],
      "execution_count": 22,
      "outputs": [
        {
          "output_type": "execute_result",
          "data": {
            "text/plain": [
              "45"
            ]
          },
          "metadata": {},
          "execution_count": 22
        }
      ]
    },
    {
      "cell_type": "code",
      "metadata": {
        "colab": {
          "base_uri": "https://localhost:8080/"
        },
        "id": "1_xERIcXY0jt",
        "outputId": "6309c4b2-bb71-42f6-f5ed-fe7575ec342a"
      },
      "source": [
        "soma = lambda a,b,c: a+b+c\n",
        "soma(1,2,3)"
      ],
      "execution_count": 26,
      "outputs": [
        {
          "output_type": "execute_result",
          "data": {
            "text/plain": [
              "6"
            ]
          },
          "metadata": {},
          "execution_count": 26
        }
      ]
    },
    {
      "cell_type": "code",
      "metadata": {
        "colab": {
          "base_uri": "https://localhost:8080/"
        },
        "id": "iUd5F8Ktaw62",
        "outputId": "0a25a536-8093-47f8-c263-c59c03b59eb5"
      },
      "source": [
        "#retorna somente numeros pares da lista\n",
        "a = [5,2,5,7,4,2,6,10,342,54,23,6,7,9,12]\n",
        "list(filter(lambda a: True if a%2==0 else False,a))"
      ],
      "execution_count": 31,
      "outputs": [
        {
          "output_type": "execute_result",
          "data": {
            "text/plain": [
              "[2, 4, 2, 6, 10, 342, 54, 6, 12]"
            ]
          },
          "metadata": {},
          "execution_count": 31
        }
      ]
    },
    {
      "cell_type": "code",
      "metadata": {
        "colab": {
          "base_uri": "https://localhost:8080/"
        },
        "id": "jSumV13VbsMf",
        "outputId": "bcc44a1b-3502-4e35-b54b-fafefaf3d4b4"
      },
      "source": [
        "a = [5,2,5,7,4,2,6,10,342,54,23,6,7,9,12]\n",
        "soma = 0\n",
        "for i in a:\n",
        "  soma += i\n",
        "print(soma)"
      ],
      "execution_count": 38,
      "outputs": [
        {
          "output_type": "stream",
          "name": "stdout",
          "text": [
            "494\n"
          ]
        }
      ]
    },
    {
      "cell_type": "code",
      "metadata": {
        "colab": {
          "base_uri": "https://localhost:8080/"
        },
        "id": "Dqg2s6zsbRwM",
        "outputId": "628ee784-8543-4c83-883b-822070a6db5e"
      },
      "source": [
        "reduce(lambda x,y:x+y,a)"
      ],
      "execution_count": 35,
      "outputs": [
        {
          "output_type": "execute_result",
          "data": {
            "text/plain": [
              "494"
            ]
          },
          "metadata": {},
          "execution_count": 35
        }
      ]
    }
  ]
}