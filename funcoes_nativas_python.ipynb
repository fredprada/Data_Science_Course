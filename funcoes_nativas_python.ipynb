{
  "nbformat": 4,
  "nbformat_minor": 0,
  "metadata": {
    "colab": {
      "name": "funcoes_nativas_python.ipynb",
      "provenance": [],
      "collapsed_sections": [],
      "authorship_tag": "ABX9TyPqvBFz6d3FI0Hj6D59/EkP",
      "include_colab_link": true
    },
    "kernelspec": {
      "name": "python3",
      "display_name": "Python 3"
    },
    "language_info": {
      "name": "python"
    }
  },
  "cells": [
    {
      "cell_type": "markdown",
      "metadata": {
        "id": "view-in-github",
        "colab_type": "text"
      },
      "source": [
        "<a href=\"https://colab.research.google.com/github/fredprada/Dex_Course_FredericoPrada/blob/main/funcoes_nativas_python.ipynb\" target=\"_parent\"><img src=\"https://colab.research.google.com/assets/colab-badge.svg\" alt=\"Open In Colab\"/></a>"
      ]
    },
    {
      "cell_type": "code",
      "metadata": {
        "colab": {
          "base_uri": "https://localhost:8080/"
        },
        "id": "-wM9Bv2jN36U",
        "outputId": "5b51c54e-b1c3-49d4-9d70-3b3952a68098"
      },
      "source": [
        "import random\n",
        "lista = []\n",
        "for i in range(10):\n",
        "  lista.append(random.randint(0,10))\n",
        "\n",
        "print(lista)"
      ],
      "execution_count": 4,
      "outputs": [
        {
          "output_type": "stream",
          "name": "stdout",
          "text": [
            "[7, 4, 2, 1, 6, 1, 9, 6, 0, 0]\n"
          ]
        }
      ]
    },
    {
      "cell_type": "code",
      "metadata": {
        "colab": {
          "base_uri": "https://localhost:8080/"
        },
        "id": "Wl6Gg06rOPlr",
        "outputId": "5bf66560-74ba-46eb-f007-b8a2fa9e930d"
      },
      "source": [
        "sorted(lista)"
      ],
      "execution_count": 5,
      "outputs": [
        {
          "output_type": "execute_result",
          "data": {
            "text/plain": [
              "[0, 0, 1, 1, 2, 4, 6, 6, 7, 9]"
            ]
          },
          "metadata": {},
          "execution_count": 5
        }
      ]
    },
    {
      "cell_type": "code",
      "metadata": {
        "colab": {
          "base_uri": "https://localhost:8080/"
        },
        "id": "ZA-rZDApOTMs",
        "outputId": "256200cd-04f0-4c42-fa4a-ad2db25debf2"
      },
      "source": [
        "\n",
        "set(lista)"
      ],
      "execution_count": 6,
      "outputs": [
        {
          "output_type": "execute_result",
          "data": {
            "text/plain": [
              "{0, 1, 2, 4, 6, 7, 9}"
            ]
          },
          "metadata": {},
          "execution_count": 6
        }
      ]
    },
    {
      "cell_type": "code",
      "metadata": {
        "colab": {
          "base_uri": "https://localhost:8080/"
        },
        "id": "F10Z_GRjOUqx",
        "outputId": "11fb26e2-a4b1-4b15-8dc8-9496fe22184d"
      },
      "source": [
        "soma = 0\n",
        "for i in range(2):\n",
        "  soma += eval(input('digite um número '))\n",
        "print(soma)"
      ],
      "execution_count": 11,
      "outputs": [
        {
          "output_type": "stream",
          "name": "stdout",
          "text": [
            "digite um número 2\n",
            "digite um número 4\n",
            "6\n"
          ]
        }
      ]
    },
    {
      "cell_type": "code",
      "metadata": {
        "colab": {
          "base_uri": "https://localhost:8080/"
        },
        "id": "pb6o1_HDOUov",
        "outputId": "27466bf2-6f5d-4ac6-83c2-86f762964337"
      },
      "source": [
        "id(lista)"
      ],
      "execution_count": 12,
      "outputs": [
        {
          "output_type": "execute_result",
          "data": {
            "text/plain": [
              "140302792956896"
            ]
          },
          "metadata": {},
          "execution_count": 12
        }
      ]
    },
    {
      "cell_type": "code",
      "metadata": {
        "colab": {
          "base_uri": "https://localhost:8080/"
        },
        "id": "Aq3PYnImOUlv",
        "outputId": "a58e5052-57d1-41ed-b406-0cc5e7669d2a"
      },
      "source": [
        "lista2 = lista\n",
        "lista2.append(2)\n",
        "print(lista2)\n",
        "print(lista)"
      ],
      "execution_count": 14,
      "outputs": [
        {
          "output_type": "stream",
          "name": "stdout",
          "text": [
            "[7, 4, 2, 1, 6, 1, 9, 6, 0, 0, 2]\n",
            "[7, 4, 2, 1, 6, 1, 9, 6, 0, 0, 2]\n"
          ]
        }
      ]
    },
    {
      "cell_type": "code",
      "metadata": {
        "colab": {
          "base_uri": "https://localhost:8080/"
        },
        "id": "JG7OubaJOUjR",
        "outputId": "ba07fae9-98b9-434a-8340-98a0bae50fba"
      },
      "source": [
        "lista3 = lista.copy()\n",
        "print(id(lista3))\n",
        "print(id(lista))"
      ],
      "execution_count": 16,
      "outputs": [
        {
          "output_type": "stream",
          "name": "stdout",
          "text": [
            "140302792505776\n",
            "140302792956896\n"
          ]
        }
      ]
    },
    {
      "cell_type": "code",
      "metadata": {
        "colab": {
          "base_uri": "https://localhost:8080/"
        },
        "id": "8cvYHgChOUgo",
        "outputId": "8e1ea000-ee2c-499b-d38e-b1ffad1ab266"
      },
      "source": [
        "sum(lista)"
      ],
      "execution_count": 17,
      "outputs": [
        {
          "output_type": "execute_result",
          "data": {
            "text/plain": [
              "38"
            ]
          },
          "metadata": {},
          "execution_count": 17
        }
      ]
    }
  ]
}