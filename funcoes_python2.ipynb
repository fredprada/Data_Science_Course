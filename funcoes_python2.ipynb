{
  "nbformat": 4,
  "nbformat_minor": 0,
  "metadata": {
    "colab": {
      "name": "funcoes_python2.ipynb",
      "provenance": [],
      "collapsed_sections": [],
      "authorship_tag": "ABX9TyMmHUqSi/wcgl8uYS+adSqN",
      "include_colab_link": true
    },
    "kernelspec": {
      "name": "python3",
      "display_name": "Python 3"
    },
    "language_info": {
      "name": "python"
    }
  },
  "cells": [
    {
      "cell_type": "markdown",
      "metadata": {
        "id": "view-in-github",
        "colab_type": "text"
      },
      "source": [
        "<a href=\"https://colab.research.google.com/github/fredprada/Data_Science_Course_FredericoPrada/blob/main/funcoes_python2.ipynb\" target=\"_parent\"><img src=\"https://colab.research.google.com/assets/colab-badge.svg\" alt=\"Open In Colab\"/></a>"
      ]
    },
    {
      "cell_type": "code",
      "metadata": {
        "id": "scMgZm86Pyi0"
      },
      "source": [
        "def verifica_par(x):\n",
        "  if x % 2 == 0:\n",
        "    result = 'par'\n",
        "  else:\n",
        "    result = 'ímpar'\n",
        "  return 'o número é '+result"
      ],
      "execution_count": 3,
      "outputs": []
    },
    {
      "cell_type": "code",
      "metadata": {
        "colab": {
          "base_uri": "https://localhost:8080/"
        },
        "id": "_VP4cbGTQjoD",
        "outputId": "ce4a0cd8-04d4-4387-ddb3-c4d9b810ad1b"
      },
      "source": [
        "lista = [1,123,234,5,25,8,5,58]\n",
        "list(map(verifica_par, lista))"
      ],
      "execution_count": 6,
      "outputs": [
        {
          "output_type": "execute_result",
          "data": {
            "text/plain": [
              "['o número é ímpar',\n",
              " 'o número é ímpar',\n",
              " 'o número é par',\n",
              " 'o número é ímpar',\n",
              " 'o número é ímpar',\n",
              " 'o número é par',\n",
              " 'o número é ímpar',\n",
              " 'o número é par']"
            ]
          },
          "metadata": {},
          "execution_count": 6
        }
      ]
    },
    {
      "cell_type": "code",
      "metadata": {
        "id": "I1SCix7UQnnV"
      },
      "source": [
        "def verifica_impar_bol(x):\n",
        "  if x % 2 != 0:\n",
        "    result = True\n",
        "  else:\n",
        "    result = False\n",
        "  return result"
      ],
      "execution_count": 21,
      "outputs": []
    },
    {
      "cell_type": "code",
      "metadata": {
        "colab": {
          "base_uri": "https://localhost:8080/"
        },
        "id": "y9Cpp6eHRDWS",
        "outputId": "94dca19a-64e8-4718-8351-e30fb57c5748"
      },
      "source": [
        "verifica_par_bol(19)"
      ],
      "execution_count": 22,
      "outputs": [
        {
          "output_type": "execute_result",
          "data": {
            "text/plain": [
              "True"
            ]
          },
          "metadata": {},
          "execution_count": 22
        }
      ]
    },
    {
      "cell_type": "code",
      "metadata": {
        "colab": {
          "base_uri": "https://localhost:8080/"
        },
        "id": "LAeDg9ySRHcl",
        "outputId": "1e591b27-a3b5-4250-b62a-1162b160685b"
      },
      "source": [
        "list(filter(verifica_par_bol, lista))"
      ],
      "execution_count": 23,
      "outputs": [
        {
          "output_type": "execute_result",
          "data": {
            "text/plain": [
              "[1, 123, 5, 25, 5]"
            ]
          },
          "metadata": {},
          "execution_count": 23
        }
      ]
    },
    {
      "cell_type": "code",
      "metadata": {
        "colab": {
          "base_uri": "https://localhost:8080/"
        },
        "id": "LIj4ipQ4RfKe",
        "outputId": "6066241d-75b9-4b6c-daea-242a892c1c3f"
      },
      "source": [
        "def tabuada(x):\n",
        "  for i in range(10+1):\n",
        "    print(x, 'x', i, '=', x*i)\n",
        "\n",
        "tabuada(9)"
      ],
      "execution_count": 27,
      "outputs": [
        {
          "output_type": "stream",
          "name": "stdout",
          "text": [
            "9 x 0 = 0\n",
            "9 x 1 = 9\n",
            "9 x 2 = 18\n",
            "9 x 3 = 27\n",
            "9 x 4 = 36\n",
            "9 x 5 = 45\n",
            "9 x 6 = 54\n",
            "9 x 7 = 63\n",
            "9 x 8 = 72\n",
            "9 x 9 = 81\n",
            "9 x 10 = 90\n"
          ]
        }
      ]
    },
    {
      "cell_type": "code",
      "metadata": {
        "id": "7IIZWquqSAz6"
      },
      "source": [
        "def cadastro():\n",
        "  print('nome')\n",
        "  nome = input()\n",
        "  print()\n",
        "  print('sobrenome')\n",
        "  sobrenome = input()\n",
        "  return nome, sobrenome"
      ],
      "execution_count": 28,
      "outputs": []
    },
    {
      "cell_type": "code",
      "metadata": {
        "colab": {
          "base_uri": "https://localhost:8080/"
        },
        "id": "CoM9qIrPSAxl",
        "outputId": "98a4223b-72aa-4126-da1b-52048c38dbed"
      },
      "source": [
        "cadastro()"
      ],
      "execution_count": 29,
      "outputs": [
        {
          "name": "stdout",
          "output_type": "stream",
          "text": [
            "nome\n",
            "123\n",
            "\n",
            "sobrenome\n",
            "aaa\n"
          ]
        },
        {
          "output_type": "execute_result",
          "data": {
            "text/plain": [
              "('123', 'aaa')"
            ]
          },
          "metadata": {},
          "execution_count": 29
        }
      ]
    },
    {
      "cell_type": "code",
      "metadata": {
        "id": "ERd3cpVtS5gr"
      },
      "source": [
        "# função que recebe cpf e nome do usuário\n",
        "# o retorno deve ser um dicionario onde a chave é o cpf e o valor é o nome\n",
        "\n",
        "\n",
        "def recebimento_dados():\n",
        "  global cadastros\n",
        "  cadastros = {}\n",
        "  continua = 's'\n",
        "  while continua == 's':\n",
        "    cpf = input('digite o seu CPF: ')\n",
        "    nome = input('digite o seu nome: ')\n",
        "    cadastros[cpf] = nome\n",
        "    cadastros.copy()\n",
        "    continua = input('continua? (s/n)')\n",
        "  print(cadastros)\n",
        "  return cadastros\n"
      ],
      "execution_count": 96,
      "outputs": []
    },
    {
      "cell_type": "code",
      "metadata": {
        "id": "Kdr7vOFZXTVF"
      },
      "source": [
        "def qtd_cadastros():\n",
        "  qtd = len(list(cadastros.keys()))\n",
        "  return qtd"
      ],
      "execution_count": 97,
      "outputs": []
    },
    {
      "cell_type": "code",
      "metadata": {
        "colab": {
          "base_uri": "https://localhost:8080/"
        },
        "id": "2YUiZoTjUIQT",
        "outputId": "3187e18f-311a-4fa2-f6d5-0623e6c6708a"
      },
      "source": [
        "recebimento_dados()\n",
        "qtd_cadastros()"
      ],
      "execution_count": 98,
      "outputs": [
        {
          "output_type": "stream",
          "name": "stdout",
          "text": [
            "digite o seu CPF: 32558741236\n",
            "digite o seu nome: ademir\n",
            "continua? (s/n)s\n",
            "digite o seu CPF: 99888777441\n",
            "digite o seu nome: demimar\n",
            "continua? (s/n)s\n",
            "digite o seu CPF: 35741596325\n",
            "digite o seu nome: mesmenor\n",
            "continua? (s/n)n\n",
            "{'32558741236': 'ademir', '99888777441': 'demimar', '35741596325': 'mesmenor'}\n"
          ]
        },
        {
          "output_type": "execute_result",
          "data": {
            "text/plain": [
              "3"
            ]
          },
          "metadata": {},
          "execution_count": 98
        }
      ]
    }
  ]
}